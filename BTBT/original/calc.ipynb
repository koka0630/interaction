{
 "cells": [
  {
   "cell_type": "code",
   "execution_count": 1,
   "metadata": {},
   "outputs": [],
   "source": [
    "import os\n",
    "import pandas as pd\n",
    "import matplotlib as mpl\n",
    "import matplotlib.pyplot as plt\n",
    "import numpy as np\n",
    "import shutil as sh\n",
    "import re\n",
    "import os\n",
    "import matplotlib as mpl\n",
    "from matplotlib.colors import Normalize \n",
    "import matplotlib.pyplot as plt\n",
    "import pandas as pd\n",
    "import numpy as np\n",
    "from mpl_toolkits.mplot3d import Axes3D\n",
    "import matplotlib.cm as cm"
   ]
  },
  {
   "cell_type": "code",
   "execution_count": 2,
   "metadata": {},
   "outputs": [],
   "source": [
    "class calc_BTBT():\n",
    "    def __init__(self):\n",
    "        self.R1_list=np.linspace(4.4,4.8,5)\n",
    "        self.R2_list=np.linspace(0.8,1.3,6)\n",
    "        self.R3_list=np.array([np.round(r,1) for r in np.linspace(-4.0,4.0,81)])\n",
    "        self.path='C:\\\\Users\\\\youmo\\\\OSC\\\\interaction\\\\BTBT\\\\'\n",
    "        self.N=41#0～4Åまでの刻み数\n",
    "\n",
    "    def calculator(self,path_file):\n",
    "        with open(path_file,'r') as f:\n",
    "            lines=f.readlines()\n",
    "        lines_E=[]\n",
    "        for line in lines:\n",
    "            if line.find('E(RB3LYP)')>-1:\n",
    "                lines_E.append(float(line.split()[4])*627.510)\n",
    "        E_list=[lines_E[5*i]-lines_E[5*i+1]-lines_E[5*i+2] for i in range(int(len(lines_E)/5))]\n",
    "        return E_list\n",
    "\n",
    "##### calc #####\n",
    "\n",
    "    #とりあえずcsvに全結果まとめる関数\n",
    "    def make_csv_step1(self,glide_mode,edge_mode):#a,b映進どちらか\n",
    "        df=pd.DataFrame(columns=['R1','R2','theta','E_t','E_p','E'])\n",
    "        out_dir=self.path+'step1\\\\glide='+glide_mode+'\\\\edge='+edge_mode#outファイルのあるディレクトリ\n",
    "        for file in os.listdir(out_dir):\n",
    "            if file[-4:]!='.out' and file[-4:]!='.log':\n",
    "                continue\n",
    "            x,R1,y,R2,z,theta=re.split('[_=]', file[:-4])\n",
    "            E_list=self.calculator(out_dir+'\\\\'+file)\n",
    "            if len(E_list)!=2:\n",
    "                print(file)\n",
    "            E_t=float(E_list[0]);E_p=float(E_list[1])\n",
    "            data=pd.Series([R1,R2,theta,E_t,E_p,4*E_t+2*E_p],index=df.columns)\n",
    "            df=df.append(data,ignore_index=True)\n",
    "        df_6inter=df.sort_values('theta')\n",
    "        df_6inter_new=df_6inter.reset_index(drop=True)\n",
    "        df_6inter_new.to_csv(out_dir+'\\\\step1.csv',index=False)\n",
    "        \n",
    "    def make_csv_step2(self,glide_mode,edge_mode):#a,b映進どちらか\n",
    "        out_dir=self.path+'step2\\\\glide='+glide_mode+'\\\\edge='+edge_mode+'\\\\'#outファイルのあるディレクトリ\n",
    "        \n",
    "        #T,P配置のE-R3依存性を出力\n",
    "        Et1_list=self.calculator(out_dir+'\\\\t1.log');Et1_list=np.array(Et1_list)\n",
    "        Et2_list=self.calculator(out_dir+'\\\\t2.log');Et2_list=np.array(Et2_list)\n",
    "        Ep_list=self.calculator(out_dir+'\\\\p.log');Ep_list=np.array(Ep_list)\n",
    "        df_t1=pd.DataFrame(columns=['R3_t1','Et1']);df_t2=pd.DataFrame(columns=['R3_t2','Et2']);df_p=pd.DataFrame(columns=['R3_p','Ep'])\n",
    "        df_t1['R3_t1']=self.R3_list;df_t2['R3_t2']=self.R3_list;df_p['R3_p']=self.R3_list\n",
    "        df_t1['Et1']=Et1_list;df_t2['Et2']=Et2_list;df_p['Ep']=Ep_list\n",
    "        df_t1.to_csv(out_dir+'t1.csv',index=False);df_t2.to_csv(out_dir+'t2.csv',index=False);df_p.to_csv(out_dir+'p.csv',index=False)\n",
    "        \n",
    "        #R3t,R3pに対するEの2Dマップ作成\n",
    "        E_inter=np.zeros((2*self.N-1,2*self.N-1))\n",
    "        for row in range(2*self.N-1):\n",
    "            for col in range(2*self.N-1):\n",
    "                if edge_mode=='a':#b平行配置が近い\n",
    "                    R3_t2=np.round(self.R3_list[col]-self.R3_list[row],1)#t2のR3を計算してみる\n",
    "                elif edge_mode=='b':#a平行配置が近い\n",
    "                    R3_t2=np.round(self.R3_list[row]-self.R3_list[col],1)\n",
    "                if R3_t2<-4 or R3_t2>4:#4以内じゃなきゃだめ\n",
    "                    continue\n",
    "                E_inter[row][col]=2*(Ep_list[row]+Et1_list[col]+float(Et2_list[self.R3_list==R3_t2]))\n",
    "        df_6inter=pd.DataFrame(E_inter,index=self.R3_list,columns=self.R3_list)\n",
    "        df_6inter.to_csv(out_dir+'6inter.csv')\n",
    "        \n",
    "    def make_csv_step3(self,glide_mode,edge_mode):\n",
    "        #Z=1か2かで分ける。\n",
    "        df_1=pd.DataFrame(columns=['R1','R2','heri','R3_t','R3_p','Ra_i0','Rb_i0','R3_i0','glide','E','i0','ip1','it1','it2','ip2','it3','it4'])\n",
    "        df_2=pd.DataFrame(columns=['R1','R2','heri','R3_t','R3_p','Ra_i0','Rb_i0','R3_i0','glide','E','i0','ip1','it1','it2','ip2','it3','it4'])\n",
    "        path_csv=self.path+'step3\\\\glide='+glide_mode+'\\\\edge='+edge_mode+'\\\\'\n",
    "        for file in os.listdir(path_csv):\n",
    "            if file[-4:]!='.log':\n",
    "                continue\n",
    "            _,R1_t,_,R2_t,_,heri,_,R3_t,_,R3_p,_,_,Ra_i0,_,_,Rb_i0,_,_,R3_i0,_,glide_mode,_,Z=re.split('[=_]',file[:-4])\n",
    "            E_list=self.calculator(path_csv+file)\n",
    "            para_list=list(map(float,[R1_t,R2_t,heri,R3_t,R3_p,Ra_i0,Rb_i0,R3_i0]))\n",
    "            if len(E_list)!=7:\n",
    "                print(para_list)\n",
    "            data=pd.Series(para_list+[glide_mode,sum(E_list)]+E_list,index=df_1.columns)#Z=1,2で同じ操作。データ格納\n",
    "            if int(Z)==1:\n",
    "                df_1=df_1.append(data,ignore_index=True)\n",
    "            elif int(Z)==2:\n",
    "                df_2=df_2.append(data,ignore_index=True)\n",
    "        #生データdf_1,df_2をcsv出力\n",
    "        df_raw=pd.concat([df_1,df_2],ignore_index=True);df_raw.to_csv(path_csv+'raw_data.csv')\n",
    "        \n",
    "        #df_2のパラメータをZ=1へ変換してマージ。E_sumだけを出力\n",
    "        if glide_mode=='a':\n",
    "            df_2['R3_t']=df_2['R3_t'].values-df_2['R3_p'].values#R3t=R3t2'=R3t'-R3p'\n",
    "            df_2['R3_p']=-df_2['R3_p'].values#R3_p=-R3_p'\n",
    "            df_2['Rb_i0']=-df_2['Rb_i0'].values#Rb_i0:-Rb_i0'\n",
    "            \n",
    "        elif glide_mode=='b':\n",
    "            df_2['R3_t']=df_2['R3_p'].values-df_2['R3_t'].values#R3t=-R3t2'=R3p'-R3t'\n",
    "            df_2['Ra_i0']=-df_2['Ra_i0'].values#Rb_i0:-Rb_i0'\n",
    "            \n",
    "        self.df_1=df_1;self.df_2=df_2\n",
    "        df=pd.merge(df_1.round(6).loc[:,'R1':'E'],df_2.round(6).loc[:,'R1':'E'],on=['R1','R2','heri','R3_t','R3_p','Ra_i0','Rb_i0','R3_i0','glide'],suffixes=['_Z=1','_Z=2'])\n",
    "        assert df.shape[0]!=0\n",
    "        df['E_total']=df['E_Z=1'].values+df['E_Z=2'].values\n",
    "        df.to_csv(path_csv+'merge.csv')"
   ]
  },
  {
   "cell_type": "markdown",
   "metadata": {},
   "source": [
    "# step1"
   ]
  },
  {
   "cell_type": "code",
   "execution_count": 3,
   "metadata": {},
   "outputs": [],
   "source": [
    "calc_1=calc_BTBT()"
   ]
  },
  {
   "cell_type": "code",
   "execution_count": 4,
   "metadata": {
    "scrolled": true
   },
   "outputs": [],
   "source": [
    "calc_1.make_csv_step1('b','a')"
   ]
  },
  {
   "cell_type": "code",
   "execution_count": 5,
   "metadata": {},
   "outputs": [],
   "source": [
    "df_glide_a=pd.read_csv(calc_1.path+'step1\\\\glide=a\\\\edge=a\\\\step1.csv')\n",
    "df_glide_b=pd.read_csv(calc_1.path+'step1\\\\glide=b\\\\edge=a\\\\step1.csv')\n",
    "\n",
    "df_plot_glide_a=df_glide_a.loc[:,['theta','E']].groupby('theta').min()\n",
    "df_plot_glide_b=df_glide_b.loc[:,['theta','E']].groupby('theta').min()"
   ]
  },
  {
   "cell_type": "code",
   "execution_count": 6,
   "metadata": {},
   "outputs": [
    {
     "data": {
      "text/plain": [
       "<matplotlib.legend.Legend at 0x20bb0227588>"
      ]
     },
     "execution_count": 6,
     "metadata": {},
     "output_type": "execute_result"
    },
    {
     "data": {
      "image/png": "[encoded data removed]",
      "text/plain": [
       "<Figure size 432x288 with 1 Axes>"
      ]
     },
     "metadata": {
      "needs_background": "light"
     },
     "output_type": "display_data"
    }
   ],
   "source": [
    "plt.rcParams['font.size']=16\n",
    "fig=plt.figure()\n",
    "ax=fig.add_subplot(111)\n",
    "ax.set_xlabel('theta')\n",
    "ax.set_ylabel('E')\n",
    "df_plot_glide_a.plot(ax=ax,label='glide=a')\n",
    "df_plot_glide_b.plot(ax=ax,label='glide=b')\n",
    "plt.legend()"
   ]
  },
  {
   "cell_type": "markdown",
   "metadata": {},
   "source": [
    "# step2"
   ]
  },
  {
   "cell_type": "code",
   "execution_count": 3,
   "metadata": {
    "scrolled": false
   },
   "outputs": [],
   "source": [
    "#edge,glideによってt2の計算式変えるべき\n",
    "calc_2=calc_BTBT()\n",
    "calc_2.make_csv_step2(glide_mode='b',edge_mode='a')"
   ]
  },
  {
   "cell_type": "markdown",
   "metadata": {},
   "source": [
    "# step3"
   ]
  },
  {
   "cell_type": "code",
   "execution_count": 3,
   "metadata": {},
   "outputs": [],
   "source": [
    "calc_3=calc_BTBT()\n",
    "calc_3.make_csv_step3(glide_mode='b',edge_mode='a')"
   ]
  },
  {
   "cell_type": "code",
   "execution_count": null,
   "metadata": {},
   "outputs": [],
   "source": []
  }
 ],
 "metadata": {
  "kernelspec": {
   "display_name": "Python 3",
   "language": "python",
   "name": "python3"
  },
  "language_info": {
   "codemirror_mode": {
    "name": "ipython",
    "version": 3
   },
   "file_extension": ".py",
   "mimetype": "text/x-python",
   "name": "python",
   "nbconvert_exporter": "python",
   "pygments_lexer": "ipython3",
   "version": "3.7.1"
  }
 },
 "nbformat": 4,
 "nbformat_minor": 2
}
