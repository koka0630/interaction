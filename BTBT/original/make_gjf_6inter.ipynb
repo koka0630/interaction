{
 "cells": [
  {
   "cell_type": "markdown",
   "metadata": {},
   "source": [
    "# import"
   ]
  },
  {
   "cell_type": "code",
   "execution_count": 1,
   "metadata": {},
   "outputs": [],
   "source": [
    "import os\n",
    "import numpy as np\n",
    "import math\n",
    "import pandas as pd\n",
    "import re\n",
    "import shutil\n",
    "import itertools\n",
    "import matplotlib.pyplot as plt\n",
    "import matplotlib.cm as cm"
   ]
  },
  {
   "cell_type": "markdown",
   "metadata": {},
   "source": [
    "# make gjf"
   ]
  },
  {
   "cell_type": "code",
   "execution_count": 2,
   "metadata": {},
   "outputs": [],
   "source": [
    "class make_gjf():\n",
    "    def __init__(self):\n",
    "        self.theta_list=[40.0,50.0,60.0]\n",
    "        self.R3_list=[round(R3,1) for R3 in np.linspace(-4.0,4.0,81)]\n",
    "        self.path='C:\\\\Users\\\\youmo\\\\OSC\\\\interaction\\\\BTBT\\\\'\n",
    "        self.dimer_path='C:\\\\Users\\\\youmo\\\\OSC\\\\interaction\\\\BTBT\\\\dimer_Z_opt.gjf'\n",
    "        \n",
    "    def make_arr(self,R1,R2,R3,theta_,torp):\n",
    "        with open(self.dimer_path,'r') as f:\n",
    "                xyz=f.readlines()\n",
    "        xyz[4]=torp+'\\n'#配置\n",
    "        xyz[66]='XX '+str(30+R1)+'\\n'\n",
    "        xyz[67]='YY '+str(30-R2)+'\\n'\n",
    "        xyz[68]='ZZ '+str(10-R3)+'\\n'\n",
    "        xyz[69]='BB '+str(theta_)+'\\n'\n",
    "        xyz_add=xyz+['--Link1--\\n']\n",
    "        return xyz_add\n",
    "\n",
    "    def convertor_R(self,Ra,Rb,theta_):\n",
    "        R1=Ra*np.cos(theta_)+Rb*np.sin(theta_)\n",
    "        R2=-Ra*np.sin(theta_)+Rb*np.cos(theta_)\n",
    "        return R1,R2\n",
    "    \n",
    "    #t字分子(Z=2)を向こうから見て基準分子のように見立てる\n",
    "    #Z=2ではRa=Ra,Rb=-Rbとする\n",
    "    \n",
    "##### make inp #####\n",
    "    def make_step1(self,in_csv,glide_mode,edge_mode):#参考にするvdwのcsv、a,b映進どちらか、a,b端どちらか\n",
    "        df_contact=pd.read_csv('C:\\\\Users\\\\youmo\\\\OSC\\\\interaction\\\\BTBT\\\\vdw\\\\'+in_csv)\n",
    "        \n",
    "        for A3 in [26,27,28,29,31,32,33,34]:#ここもカスタマイズ\n",
    "            A1,A2,A3_,theta_ab,R,S,a,b=df_contact[df_contact['A3']==int(A3)].values[0]#レコードが1つしかないので0入れる\n",
    "            A3_rad=np.radians(A3)\n",
    "            R1_center=(a*np.cos(A3_rad)+b*np.sin(A3_rad))/2\n",
    "            R2_center=(b*np.cos(A3_rad)-a*np.sin((A3_rad)))/2\n",
    "            \n",
    "            #R1,R2の範囲をカスタマイズ\n",
    "            self.R1_list=[np.round(d1+R1_center,1) for d1 in np.linspace(-0.5,0.5,11)]\n",
    "            self.R2_list=[np.round(d2+R2_center,1) for d2 in np.linspace(-0.5,0.5,11)]\n",
    "            \n",
    "            for R1 in self.R1_list:\n",
    "                for R2 in self.R2_list:\n",
    "                    b_=2*(R1*np.sin(A3_rad)+R2*np.cos(A3_rad))\n",
    "                    a_=2*(R1*np.cos(A3_rad)-R2*np.sin(A3_rad))\n",
    "                    \n",
    "                    #edgeによって平行配置a,bのどちらが近くなるかが変わる。\n",
    "                    if edge_mode=='a':#普通こっち\n",
    "                        R1_p=b_*np.sin(A3_rad);R2_p=b_*np.cos(A3_rad)\n",
    "                    elif edge_mode=='b':\n",
    "                        R1_p=a_*np.sin(A3_rad);R2_p=-a_*np.cos(A3_rad) #修正した4/24 edge=bはやり直し。。。\n",
    "                        \n",
    "                    #映進面によってT配置の分子の向きが違う\n",
    "                    if glide_mode=='b':\n",
    "                        xyz_t= self.make_arr(R1,R2,0.0,float(A3*2),'t')\n",
    "                    elif glide_mode=='a':\n",
    "                        xyz_t= self.make_arr(R1,R2,0.0,A3*2+180.0,'t')\n",
    "                    \n",
    "                    xyz_p= self.make_arr(R1_p,R2_p,0.0,0.0,'p')\n",
    "                    xyz_list=['$ RunGauss\\n']+xyz_t+xyz_p[:-1]#\n",
    "                    with open(self.path+'step1\\\\glide='+glide_mode+'\\\\edge='+edge_mode+'\\\\R1={}_R2={}_theta={}.inp'.format(R1,R2,int(2*A3)),'w') as f:\n",
    "                        f.writelines(xyz_list)\n",
    "\n",
    "    def make_step2(self,R1,R2,theta,glide_mode,edge_mode):\n",
    "        theta_rt=np.radians(float(theta))\n",
    "        b_=2*(R1*np.sin(theta_rt/2)+R2*np.cos(theta_rt/2))\n",
    "        a_=2*(R1*np.cos(theta_rt/2)-R2*np.sin(theta_rt/2))\n",
    "        R1_pb=b_*np.sin(theta_rt/2);R2_pb=b_*np.cos(theta_rt/2)\n",
    "        R1_pa=a_*np.sin(theta_rt/2);R2_pa=-a_*np.cos(theta_rt/2)\n",
    "        xyz_t1_list,xyz_t2_list,xyz_p_list=['$ RunGauss\\n'],['$ RunGauss\\n'],['$ RunGauss\\n']\n",
    "        \n",
    "        #T-shape-1\n",
    "        theta_t=theta+180.0 if glide_mode=='a' else theta+0.0\n",
    "        for R3_t1 in self.R3_list:\n",
    "            xyz_t1= self.make_arr(R1,R2,R3_t1,theta_t,'t1')\n",
    "            xyz_t1_list=xyz_t1_list+xyz_t1\n",
    "            \n",
    "        if edge_mode=='a':#a端の場合\n",
    "            #parallel\n",
    "            for R3_p in self.R3_list:\n",
    "                xyz_p=self.make_arr(R1_pb,R2_pb,R3_p,0.0,'p')\n",
    "                xyz_p_list=xyz_p_list+xyz_p\n",
    "            #T-shape-2\n",
    "            for R3_t2 in self.R3_list:\n",
    "                xyz_t2= self.make_arr(R1-R1_pb,R2-R2_pb,R3_t2,theta_t,'t2')\n",
    "                xyz_t2_list=xyz_t2_list+xyz_t2\n",
    "        \n",
    "        elif edge_mode=='b':#a端の場合\n",
    "            for R3_p in self.R3_list:\n",
    "                xyz_p=self.make_arr(R1_pa,R2_pa,R3_p,0.0,'p')\n",
    "                xyz_p_list=xyz_p_list+xyz_p\n",
    "            for R3_t2 in self.R3_list:\n",
    "                xyz_t2= self.make_arr(R1_pa-R1,R2_pa-R2,R3_t2,theta_t,'t2')\n",
    "                xyz_t2_list=xyz_t2_list+xyz_t2\n",
    "        \n",
    "        with open(self.path+'step2\\\\glide={}\\\\edge={}\\\\t1.inp'.format(glide_mode,edge_mode),'w') as f:\n",
    "            f.writelines(xyz_t1_list[:-1])\n",
    "        with open(self.path+'step2\\\\glide={}\\\\edge={}\\\\t2.inp'.format(glide_mode,edge_mode),'w') as f:\n",
    "            f.writelines(xyz_t2_list[:-1])\n",
    "        with open(self.path+'step2\\\\glide={}\\\\edge={}\\\\p.inp'.format(glide_mode,edge_mode),'w') as f:\n",
    "            f.writelines(xyz_p_list[:-1])    \n",
    "        \n",
    "        #step1_min,step2_min,vdwmin.glideを入れる\n",
    "    def make_step3(self,R1_t,R2_t,heri,R3_t,R3_p,Ra_i0,Rb_i0,R3_i0,glide_mode,edge_mode,Z):#edge='a','b',Z=1,2\n",
    "        \n",
    "        glide= 180.0 if glide_mode=='a' else 0.0\n",
    "        #p配置のベクトルのための準備\n",
    "        heri_rt=np.radians(heri)\n",
    "        b_=2*(R1_t*np.sin(heri_rt/2)+R2_t*np.cos(heri_rt/2))\n",
    "        a_=2*(R1_t*np.cos(heri_rt/2)-R2_t*np.sin(heri_rt/2))\n",
    "        R1_p=b_*np.sin(heri_rt/2);R2_p=b_*np.cos(heri_rt/2)\n",
    "        \n",
    "        #t,p,i0配置の相対位置ベクトル\n",
    "        R1_i0,R2_i0=self.convertor_R(Ra_i0,Rb_i0,heri_rt/2)\n",
    "        R_t=np.array([R1_t,R2_t,R3_t])\n",
    "        R_p=np.array([R1_p,R2_p,R3_p])\n",
    "        R_i0=np.array([R1_i0,R2_i0,R3_i0])#層2のZ=1(手前・上)\n",
    "        inter_7list=[[0,0,'p'],[0,1,'p'],[1,0,'t'],[1,-1,'t'],\n",
    "                     [0,-1,'p'],[-1,0,'t'],[-1,1,'t']]\n",
    "        xyz_list=['$ RunGauss\\n']\n",
    "\n",
    "        for ind,arr in enumerate(inter_7list):\n",
    "            t=arr[0];p=arr[1]\n",
    "            R=-R_i0+(R_t*t+R_p*p) #層2の基準分子(Z=1)からみた奥の層1の分子の位置ベクトル\n",
    "            theta=heri+glide if arr[2]=='t' else 0.0\n",
    "            xyz_= self.make_arr(R[0],R[1],R[2],theta,arr[2]+str(ind))\n",
    "            xyz_list=xyz_list+xyz_\n",
    "\n",
    "        with open(self.path+'step3\\\\glide='+glide_mode+'\\\\edge='+edge_mode+'\\\\R1={}_R2={}_heri={}_R3t={}_R3p={}_Ra_i0={}_Rb_i0={}_R3_i0={}_glide={}_Z={}.inp'.format(R1_t,R2_t,heri,R3_t,R3_p,Ra_i0,Rb_i0,R3_i0,glide_mode,Z),'w') as f:\n",
    "            f.writelines(xyz_list[:-1])\n",
    "\n",
    "####### チェック用 #######\n",
    "    def view(self,R1_t,R2_t,heri,R3_t,R3_p,R1_i0,R2_i0,R3_i0,glide_mode):\n",
    "        b_=2*(R1*np.sin(np.radians(theta)/2)+R2*np.cos(np.radians(theta)/2))\n",
    "        a_=2*(R1*np.cos(np.radians(theta)/2)-R2*np.sin(np.radians(theta)/2))\n",
    "        \n",
    "        if edge_mode=='a':#普通こっち\n",
    "            R1_p=b_*np.sin(np.radians(theta)/2);R2_p=b_*np.cos(np.radians(theta)/2)\n",
    "        elif edge_mode=='b':\n",
    "            R1_p=a_*np.sin(np.radians(theta)/2);R2_p=-a_*np.cos(np.radians(theta)/2)\n",
    "\n",
    "        #映進面によってT配置の分子の向きが違う\n",
    "        if glide_mode=='b':\n",
    "            xyz_t= self.make_arr(R1,R2,R3,theta,'t')\n",
    "        elif glide_mode=='a':\n",
    "            xyz_t= self.make_arr(R1,R2,R3,theta+180.0,'t')\n",
    "            \n",
    "        if torp=='p':\n",
    "            xyz = self.make_arr(R1_p,R2_p,R3,0.0,'p')\n",
    "        elif torp=='t':\n",
    "            xyz = xyz_t\n",
    "            \n",
    "        with open(self.path+'for_view\\\\'+name_gjf,'w') as f:\n",
    "            f.writelines(xyz[:-1])\n",
    "\n",
    "############# ファイル処理関係 ##############\n",
    "\n",
    "    def move_to_4mkdir_step1(self,glide,edge,sep=60):#一フォルダのファイル数\n",
    "        path_inp=self.path+'step1\\\\glide='+glide+'\\\\edge='+edge+'\\\\'\n",
    "        #mkdir\n",
    "        int_folder=0\n",
    "        file_list_inp=[file for file in os.listdir(path_inp) if file[-4:]=='.inp']\n",
    "        while len(file_list_inp)!=0:\n",
    "            \n",
    "            #フォルダ増やす\n",
    "            int_folder+=1\n",
    "            path_inpn=path_inp+'inp'+str(int_folder)\n",
    "            os.mkdir(path_inpn)\n",
    "            \n",
    "            #fileをsepずつ新フォルダに移す\n",
    "            for file in file_list_inp[:min(len(file_list_inp),sep)]:\n",
    "                shutil.move(path_inp+file,path_inpn)\n",
    "            file_list_inp=[file for file in os.listdir(path_inp) if file[-4:]=='.inp']\n",
    "            \n",
    "    def move_to_4mkdir_step3(self,glide,edge,sep=30):#一フォルダのファイル数\n",
    "        #mkdir\n",
    "        int_folder=0\n",
    "        file_list_inp=[file for file in os.listdir(self.path+'step3\\\\glide='+glide+'\\\\edge='+edge) if file[-4:]=='.inp']\n",
    "        while len(file_list_inp)!=0:\n",
    "            #フォルダ増やす\n",
    "            int_folder+=1\n",
    "            path_inpn=self.path+'step3\\\\glide='+glide+'\\\\edge='+edge+'\\\\inp'+str(int_folder)\n",
    "            os.mkdir(path_inpn)\n",
    "            \n",
    "            #fileをsepずつ新フォルダに移す\n",
    "            for file in file_list_inp[:min(len(file_list_inp),sep)]:\n",
    "                shutil.move(self.path+'step3\\\\glide='+glide+'\\\\edge='+edge+'\\\\'+file,path_inpn)\n",
    "            file_list_inp=[file for file in os.listdir(self.path+'step3\\\\glide='+glide+'\\\\edge='+edge+'\\\\') if file[-4:]=='.inp']\n",
    "\n",
    "########   実行ファイル   #######\n",
    "    def make_exe_step1(self,glide,edge):#実行ファイル作成\n",
    "        path_inp=self.path+'step1\\\\glide='+glide+'\\\\edge='+edge+'\\\\'\n",
    "        #mkdir\n",
    "        file_list_inp=[fold for fold in os.listdir(path_inp) if fold[:3]=='inp']\n",
    "        N_folder=len(file_list_inp)\n",
    "        for n_folder in range(1,N_folder+1):\n",
    "            path_inpn=self.path+'step1\\\\glide='+glide+'\\\\edge='+edge+'\\\\inp'+str(n_folder)\n",
    "            file_list=[file[:-4] for file in os.listdir(path_inpn) if file[-4:]=='.inp']\n",
    "            cc_list=[]\n",
    "            for file_name in file_list:\n",
    "                line='g16 < '+file_name+'.inp > '+file_name+'.log \\n'\n",
    "                cc_list.append(line)\n",
    "            with open(path_inpn+'\\\\exe_6inter.txt','w') as f:\n",
    "                f.writelines(cc_list)\n",
    "\n",
    "    def make_exe_step2(self,glide_mode,edge_mode):\n",
    "        with open(self.path+'step2\\\\glide='+glide_mode+'\\\\edge='+edge_mode+'\\\\exe_6inter.txt','w') as f:\n",
    "            f.writelines(['g16 < t1.inp > t1.log \\n','g16 < t2.inp > t2.log \\n','g16 < p.inp > p.log \\n'])\n",
    "    \n",
    "    def make_exe_step3(self,glide_mode,edge_mode):#実行ファイル作成\n",
    "        #mkdir\n",
    "        file_list_inp=[fold for fold in os.listdir(self.path+'step3\\\\glide='+glide_mode+'\\\\edge='+edge_mode) if fold[:3]=='inp']\n",
    "        N_folder=len(file_list_inp)\n",
    "        for n_folder in range(1,N_folder+1):\n",
    "            path_inpn=self.path+'step3\\\\glide='+glide_mode+'\\\\edge='+edge_mode+'\\\\inp'+str(n_folder)\n",
    "            file_list=[file[:-4] for file in os.listdir(path_inpn) if file[-4:]=='.inp']\n",
    "            cc_list=[]\n",
    "            for file_name in file_list:\n",
    "                line='g16 < '+file_name+'.inp > '+file_name+'.log \\n'\n",
    "                cc_list.append(line)\n",
    "            with open(path_inpn+'\\\\exe_6inter.txt','w') as f:\n",
    "                f.writelines(cc_list)\n",
    "        \n",
    "#もしminをとらえられていないθがあるなら追加のファイル用意\n",
    "#glide_mode='a',edge_mode='a',\n",
    "    def add_step1(self,glide_mode,edge_mode):\n",
    "        add_list=[]\n",
    "        \n",
    "        #計算済みcsv\n",
    "        df_step1=pd.read_csv(self.path+'step1\\\\glide={}\\\\edge={}\\\\step1.csv'.format(glide_mode,edge_mode))\n",
    "        min_list=[]\n",
    "        #min_list=[[5.0,0.6,60],[5.0,1.2,70],,,] minのパラメータセット\n",
    "        for theta in df_step1['theta'].unique():\n",
    "            para_list_theta=df_step1[df_step1['theta']==theta].loc[:,['R1','R2','E']].values\n",
    "            R1,R2,E=para_list_theta[np.argmin(para_list_theta[:,2])]#min時のパラメータを抽出\n",
    "            \n",
    "            bool_inc=0\n",
    "            #minの周りの四つが含まれるか確認\n",
    "            for R1__,R2__ in para_list_theta[:,:2]:#R1,R2のリスト\n",
    "                bool_1=(R1+0.1==R1__ and R2==R2__);bool_2=(R1-0.1==R1__ and R2==R2__)\n",
    "                bool_3=(R1==R1__ and R2+0.1==R2__);bool_4=(R1==R1__ and R2-0.1==R2__)\n",
    "                bool_inc+=bool_1+bool_2+bool_3+bool_4\n",
    "            \n",
    "            #それがまだminじゃないならappend\n",
    "            if bool_inc==4:\n",
    "                continue\n",
    "            elif bool_inc<4:\n",
    "                min_list.append([R1,R2,theta])\n",
    "\n",
    "        glide=180.0 if glide_mode=='a' else 0.0\n",
    "        #はじっこにあるminのヘリンボーンパラメータ入力\n",
    "        for R1,R2,theta in min_list:\n",
    "            R1_list=[np.round(R1+d,1) for d in np.linspace(-0.5,0.5,11)]\n",
    "            R2_list=[np.round(R2+d,1) for d in np.linspace(-1.0,1.0,21)]\n",
    "            df_calc=df_step1[df_step1['theta']==theta].loc[:,['R1','R2','theta']]\n",
    "            \n",
    "            ####R1*R2の直積リスト####\n",
    "            for R1_,R2_ in itertools.product(R1_list,R2_list):\n",
    "                #計算済みパラメータとかぶってなければ追加\n",
    "                if not([R1_,R2_,theta] in df_calc.values.tolist()):\n",
    "                    add_list.append((R1_,R2_,theta))\n",
    "        \n",
    "        \n",
    "        #make_inp\n",
    "        for R1,R2,heri in add_list:\n",
    "            heri_rad=np.radians(heri)\n",
    "            b_=2*(R1*np.sin(heri_rad/2)+R2*np.cos(heri_rad/2))\n",
    "            a_=2*(R1*np.cos(heri_rad/2)-R2*np.sin(heri_rad/2))\n",
    "\n",
    "            #edgeによって平行配置a,bのどちらが近くなるかが変わる。\n",
    "            if edge_mode=='a':#普通こっち\n",
    "                R1_p=b_*np.sin(heri_rad/2);R2_p=b_*np.cos(heri_rad/2)\n",
    "            elif edge_mode=='b':\n",
    "                R1_p=a_*np.sin(heri_rad/2);R2_p=-a_*np.cos(heri_rad/2) #修正した4/24 edge=bはやり直し。。。\n",
    "\n",
    "            #配座出力\n",
    "            xyz_t = self.make_arr(R1,R2,0.0,heri+glide,'t')  \n",
    "            xyz_p = self.make_arr(R1_p,R2_p,0.0,0.0,'p')\n",
    "            xyz_list=['$ RunGauss\\n']+xyz_t+xyz_p[:-1]#\n",
    "            with open(self.path+'step1\\\\glide='+glide_mode+'\\\\edge='+edge_mode+'\\\\R1={}_R2={}_theta={}.inp'.format(R1,R2,int(heri)),'w') as f:\n",
    "                f.writelines(xyz_list)\n",
    "\n"
   ]
  },
  {
   "cell_type": "markdown",
   "metadata": {},
   "source": [
    "# STEP1"
   ]
  },
  {
   "cell_type": "markdown",
   "metadata": {},
   "source": [
    "## ⓪↑の探索範囲をカスタマイズ"
   ]
  },
  {
   "cell_type": "markdown",
   "metadata": {},
   "source": [
    "## ①インスタンス立ち上げ"
   ]
  },
  {
   "cell_type": "code",
   "execution_count": 3,
   "metadata": {},
   "outputs": [],
   "source": [
    "maker_1=make_gjf()"
   ]
  },
  {
   "cell_type": "markdown",
   "metadata": {},
   "source": [
    "## ②inpファイル大量作成"
   ]
  },
  {
   "cell_type": "code",
   "execution_count": 4,
   "metadata": {},
   "outputs": [],
   "source": [
    "maker_1.make_step1('vdw_b-glide_a-edge_for_inp.csv',glide_mode='b',edge_mode='a')"
   ]
  },
  {
   "cell_type": "markdown",
   "metadata": {},
   "source": [
    "## ③ファイルを分ける"
   ]
  },
  {
   "cell_type": "code",
   "execution_count": 5,
   "metadata": {},
   "outputs": [],
   "source": [
    "maker_1.move_to_4mkdir_step1(glide='b',edge='a',sep=60)"
   ]
  },
  {
   "cell_type": "markdown",
   "metadata": {},
   "source": [
    "## ④実行ファイル"
   ]
  },
  {
   "cell_type": "code",
   "execution_count": 6,
   "metadata": {},
   "outputs": [],
   "source": [
    "maker_1.make_exe_step1(glide='b',edge='a')"
   ]
  },
  {
   "cell_type": "markdown",
   "metadata": {},
   "source": [
    "## ⑤追加ファイル→③へ"
   ]
  },
  {
   "cell_type": "code",
   "execution_count": 13,
   "metadata": {
    "scrolled": true
   },
   "outputs": [],
   "source": [
    "# maker_1=make_gjf()\n",
    "# maker_1.add_step1('b','a')#glide,edge"
   ]
  },
  {
   "cell_type": "markdown",
   "metadata": {},
   "source": [
    "# STEP2"
   ]
  },
  {
   "cell_type": "markdown",
   "metadata": {},
   "source": [
    "## ①インスタンス"
   ]
  },
  {
   "cell_type": "code",
   "execution_count": 3,
   "metadata": {},
   "outputs": [],
   "source": [
    "maker_2=make_gjf()"
   ]
  },
  {
   "cell_type": "markdown",
   "metadata": {},
   "source": [
    "## ②inpファイル大量作成"
   ]
  },
  {
   "cell_type": "code",
   "execution_count": 4,
   "metadata": {},
   "outputs": [],
   "source": [
    "maker_2.make_step2(5.0,0.8,58,glide_mode='b',edge_mode='a')"
   ]
  },
  {
   "cell_type": "markdown",
   "metadata": {},
   "source": [
    "## ③実行ファイル"
   ]
  },
  {
   "cell_type": "code",
   "execution_count": 5,
   "metadata": {},
   "outputs": [],
   "source": [
    "maker_2.make_exe_step2(glide_mode='b',edge_mode='a')"
   ]
  },
  {
   "cell_type": "markdown",
   "metadata": {},
   "source": [
    "# step3"
   ]
  },
  {
   "cell_type": "markdown",
   "metadata": {},
   "source": [
    "## ①vdwmin入れる(vdw_contactからとってくる)\n",
    "## ②vdwmin付近にファイル作成"
   ]
  },
  {
   "cell_type": "markdown",
   "metadata": {},
   "source": [
    "glide=a"
   ]
  },
  {
   "cell_type": "code",
   "execution_count": 9,
   "metadata": {},
   "outputs": [],
   "source": [
    "R1_t=5.0;R2_t=0.6;heri=60.0\n",
    "R3_t=-0.1;R3_p=-0.6;R3_t2=np.round(R3_t-R3_p,1)\n",
    "\n",
    "##########ここだけいじる\n",
    "Ra_i0=2.4;Rb_i0=0.2;R3_i0=11.6#vdwmin=2.5,0.3,11.62418694　ここでは0.2Å刻み\n",
    "##########\n",
    "\n",
    "maker_3=make_gjf()"
   ]
  },
  {
   "cell_type": "code",
   "execution_count": 11,
   "metadata": {},
   "outputs": [],
   "source": [
    "for dRa_i0 in np.linspace(-0.2,0.2,3):\n",
    "    Ra=np.round(Ra_i0+dRa_i0,1)\n",
    "    for dRb_i0 in np.linspace(-0.2,0.2,3):\n",
    "        Rb=np.round(Rb_i0+dRb_i0,1)\n",
    "        for dR3_i0 in np.linspace(-0.6,-0.4,2):\n",
    "            R3=np.round(R3_i0+dR3_i0,1)\n",
    "#             maker_3.make_step3(R1_t=R1_t,R2_t=R2_t,heri=heri,\n",
    "#                                R3_t=R3_t,R3_p=R3_p,\n",
    "#                                Ra_i0=Ra, Rb_i0=Rb, R3_i0=R3,\n",
    "#                                glide_mode='a',edge_mode='a',Z=1)\n",
    "            maker_3.make_step3(R1_t=R1_t,R2_t=R2_t,heri=heri,\n",
    "                               R3_t=R3_t2,R3_p=-R3_p,\n",
    "                               Ra_i0=Ra, Rb_i0=-Rb, R3_i0=R3,\n",
    "                               glide_mode='a',edge_mode='a',Z=2)            "
   ]
  },
  {
   "cell_type": "markdown",
   "metadata": {},
   "source": [
    "glide=b"
   ]
  },
  {
   "cell_type": "code",
   "execution_count": 3,
   "metadata": {},
   "outputs": [],
   "source": [
    "R1_t=5.0;R2_t=0.8;heri=58.0\n",
    "R3_t=-0.3;R3_p=-0.7;R3_t2=np.round(R3_t-R3_p,1)\n",
    "\n",
    "##########ここだけいじる\n",
    "Ra_i0=0.0;Rb_i0=-2.6;R3_i0=12.0#11.9454\n",
    "##########\n",
    "\n",
    "maker_3=make_gjf()"
   ]
  },
  {
   "cell_type": "code",
   "execution_count": 8,
   "metadata": {},
   "outputs": [],
   "source": [
    "for dRa_i0 in np.linspace(-0.4,0.4,5):\n",
    "    Ra=np.round(Ra_i0+dRa_i0,1)\n",
    "    for dRb_i0 in np.linspace(-0.2,0.2,3):\n",
    "        Rb=np.round(Rb_i0+dRb_i0,1)\n",
    "        for dR3_i0 in np.linspace(-0.6,-0.4,2):\n",
    "            R3=np.round(R3_i0+dR3_i0,1)\n",
    "            maker_3.make_step3(R1_t=R1_t,R2_t=R2_t,heri=heri,\n",
    "                                R3_t=R3_t,R3_p=R3_p,\n",
    "                                Ra_i0=Ra, Rb_i0=Rb, R3_i0=R3,\n",
    "                                glide_mode='b',edge_mode='a',Z=1)\n",
    "            maker_3.make_step3(R1_t=R1_t,R2_t=R2_t,heri=heri,\n",
    "                               R3_t=-R3_t2,R3_p=R3_p,\n",
    "                               Ra_i0=-Ra, Rb_i0=Rb, R3_i0=R3,\n",
    "                               glide_mode='b',edge_mode='a',Z=2)            "
   ]
  },
  {
   "cell_type": "markdown",
   "metadata": {},
   "source": [
    "## ③フォルダ小分け"
   ]
  },
  {
   "cell_type": "code",
   "execution_count": 9,
   "metadata": {},
   "outputs": [],
   "source": [
    "maker_3.move_to_4mkdir_step3(glide='b',edge='a',sep=15)"
   ]
  },
  {
   "cell_type": "markdown",
   "metadata": {},
   "source": [
    "## ④実行ファイル作成"
   ]
  },
  {
   "cell_type": "code",
   "execution_count": 10,
   "metadata": {},
   "outputs": [],
   "source": [
    "maker_3.make_exe_step3(glide_mode='b',edge_mode='a')"
   ]
  },
  {
   "cell_type": "code",
   "execution_count": null,
   "metadata": {},
   "outputs": [],
   "source": []
  }
 ],
 "metadata": {
  "kernelspec": {
   "display_name": "Python 3",
   "language": "python",
   "name": "python3"
  },
  "language_info": {
   "codemirror_mode": {
    "name": "ipython",
    "version": 3
   },
   "file_extension": ".py",
   "mimetype": "text/x-python",
   "name": "python",
   "nbconvert_exporter": "python",
   "pygments_lexer": "ipython3",
   "version": "3.7.1"
  }
 },
 "nbformat": 4,
 "nbformat_minor": 2
}
