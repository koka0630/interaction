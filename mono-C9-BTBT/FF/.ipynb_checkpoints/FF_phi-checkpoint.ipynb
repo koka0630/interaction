{
 "cells": [
  {
   "cell_type": "code",
   "execution_count": 5,
   "metadata": {},
   "outputs": [],
   "source": [
    "import os\n",
    "import pandas as pd\n",
    "import matplotlib as mpl\n",
    "import matplotlib.pyplot as plt\n",
    "import matplotlib.cm as cm\n",
    "import numpy as np\n",
    "import shutil as sh\n",
    "import math\n",
    "import time\n",
    "from mpl_toolkits.mplot3d import Axes3D"
   ]
  },
  {
   "cell_type": "code",
   "execution_count": 15,
   "metadata": {},
   "outputs": [],
   "source": [
    "class FF_phi():\n",
    "    \n",
    "    #ヘリンボーンパラメータとYorZ入れる。glide=a→Z, glide=b→Y\n",
    "    def __init__(self,R1,R2,heri,glide):\n",
    "        self.R1=R1;self.R2=R2;self.heri=heri;self.glide=glide\n",
    "        self.path='C:\\\\Users\\\\youmo\\\\OSC\\\\interaction\\\\mono-C9-BTBT\\\\FF\\\\'\n",
    "        self.interval_phi1=1#deg\n",
    "        self.interval_phi2=1#deg\n",
    "        self.phi1_list=np.linspace(-180.0,180.0,360.0/self.interval_phi1+1)#回転角\n",
    "        self.phi2_list=[0]\n",
    "        \n",
    "        A_rad=np.radians(heri/2)\n",
    "        self.a_=2*(R1*np.cos(A_rad)-R2*np.sin(A_rad))\n",
    "        self.b_=2*(R2*np.cos(A_rad)+R1*np.sin(A_rad))\n",
    "        \n",
    "        #侵入の閾値\n",
    "        self.inv=1.0\n",
    "\n",
    "    #theta_in \n",
    "    def Rod(self,n,theta_in):\n",
    "        nx,ny,nz=n\n",
    "        theta_t=np.radians(theta_in)\n",
    "        Rod=np.array([[np.cos(theta_t)+(nx**2)*(1-np.cos(theta_t)),nx*ny*(1-np.cos(theta_t))-nz*np.sin(theta_t),nx*nz*(1-np.cos(theta_t))+ny*np.sin(theta_t)],\n",
    "                    [nx*ny*(1-np.cos(theta_t))+nz*np.sin(theta_t),np.cos(theta_t)+(ny**2)*(1-np.cos(theta_t)),ny*nz*(1-np.cos(theta_t))-nx*np.sin(theta_t)],\n",
    "                    [nx*nz*(1-np.cos(theta_t))-ny*np.sin(theta_t),ny*nz*(1-np.cos(theta_t))+nx*np.sin(theta_t),np.cos(theta_t)+(nz**2)*(1-np.cos(theta_t))]])\n",
    "        return Rod\n",
    "\n",
    "\n",
    "    #分子1分子2を作成(回転させただけ・平行移動なし)\n",
    "    def convertor(self,atom_list,A,phi1,phi2):#A=heri/2\n",
    "        atom_list_1=[];atom_list_pa=[];atom_list_pb=[];atom_list_t1=[];atom_list_t3=[]\n",
    "        #alkylの基準\n",
    "        C0=np.array([atom_list[16][1],atom_list[16][2],atom_list[16][3]])\n",
    "        C1=np.array([atom_list[23][1],atom_list[23][2],atom_list[23][3]])\n",
    "        C2=np.array([atom_list[26][1],atom_list[26][2],atom_list[26][3]])\n",
    "        \n",
    "        #phi1に関するalkylの軸\n",
    "        n1=C1-C0\n",
    "        n1/=np.linalg.norm(n1)\n",
    "        \n",
    "        n2=np.cross(C0-C1,C2-C1)\n",
    "        n2/=np.linalg.norm(n2)\n",
    "                    \n",
    "        #alkyl回転・分子1作成\n",
    "        for ind,(atom,x,y,z,R,q,sig,eps) in enumerate(atom_list):\n",
    "            if ind>=23:#alkyl?\n",
    "                x,y,z=np.matmul(self.Rod(n2,phi2),(np.array([x,y,z])-C1).T)\n",
    "                x,y,z=C1+np.array([x,y,z])\n",
    "                x,y,z=np.matmul(self.Rod(n1,phi1),(np.array([x,y,z])-C0).T)\n",
    "                x,y,z=C0+np.array([x,y,z])\n",
    "            x1,y1,z1=np.matmul(self.Rod(np.array([0,0,1]),A),np.array([x,y,z]).T)\n",
    "            atom_list_1.append([atom,x1,y1,z1,R,q,sig,eps])\n",
    "        \n",
    "        #並進・映進操作でp,t作成\n",
    "        for atom,x,y,z,R,q,sig,eps in atom_list_1:\n",
    "            atom_list_pb.append([atom,x,self.b_+y,z,R,q,sig,eps])\n",
    "            atom_list_pa.append([atom,self.a_+x,y,z,R,q,sig,eps])\n",
    "            \n",
    "            if self.glide=='a':\n",
    "                atom_list_t1.append([atom,self.a_/2+x,self.b_/2-y,z,R,q,sig,eps])\n",
    "                atom_list_t3.append([atom,-self.a_/2+x,-self.b_/2-y,z,R,q,sig,eps])\n",
    "                \n",
    "                \n",
    "            elif self.glide=='b':\n",
    "                atom_list_t1.append([atom,self.a_/2-x,self.b_/2+y,z,R,q,sig,eps])\n",
    "                atom_list_t3.append([atom,-self.a_/2-x,-self.b_/2+y,z,R,q,sig,eps])\n",
    "                \n",
    "        atom_list_others=[atom_list_pa,atom_list_pb,atom_list_t1,atom_list_t3]\n",
    "        return atom_list_1,atom_list_others\n",
    "\n",
    "    #phiの範囲を出力\n",
    "    def calc_phi(self):\n",
    "        df=pd.DataFrame(columns=['R1','R2','heri','phi1','phi2','FF'])\n",
    "        df_mono=pd.read_csv(self.path+'monomer.csv') ###x,y,z,rad\n",
    "        monomer=df_mono[['atom','X','Y','Z','R','q','sig','eps']].values\n",
    "        e=1.602176634*(10**(-19))\n",
    "\n",
    "        for phi1 in self.phi1_list:\n",
    "            for phi2 in self.phi2_list:\n",
    "                BTBT_1,BTBT_others=self.convertor(monomer,self.heri/2,phi1,phi2)\n",
    "\n",
    "                #FF\n",
    "                FF=0\n",
    "\n",
    "                #アルキルの各原子同士が衝突したらbreak\n",
    "                for ind1,(atom1,x1,y1,z1,R1,q1,sig1,eps1) in enumerate(BTBT_1[23:]):\n",
    "                    for ind2,BTBT_2 in enumerate(BTBT_others):\n",
    "                        for ind3,(atom2,x2,y2,z2,R2,q2,sig2,eps2) in enumerate(BTBT_2[23:]):\n",
    "                            \n",
    "                            r=np.linalg.norm([x1-x2,y1-y2,z1-z2])\n",
    "                            q=q1*q2*(e**2)\n",
    "                            sig=np.sqrt(sig1*sig2)\n",
    "                            eps=np.sqrt(eps1*eps2)\n",
    "                            FF+=q/r+4*eps*((sig/r)**12-(sig/r)**6)\n",
    "\n",
    "                data=pd.Series([self.R1,self.R2,self.heri,phi1,phi2,FF],index=['R1','R2','heri','phi1','phi2','FF'])\n",
    "                df=df.append(data,ignore_index=True)\n",
    "        df.to_csv(self.path+'FF_phi.csv',index=False)\n",
    "\n"
   ]
  },
  {
   "cell_type": "markdown",
   "metadata": {},
   "source": [
    "# Y-type"
   ]
  },
  {
   "cell_type": "code",
   "execution_count": 36,
   "metadata": {},
   "outputs": [],
   "source": [
    "FF=FF_phi(R1=5.0,R2=1.0,heri=58.0,glide='b')"
   ]
  },
  {
   "cell_type": "code",
   "execution_count": 37,
   "metadata": {},
   "outputs": [],
   "source": [
    "FF.calc_phi()"
   ]
  },
  {
   "cell_type": "code",
   "execution_count": 9,
   "metadata": {},
   "outputs": [],
   "source": [
    "# df_FF=pd.read_csv(FF.path+'FF_phi.csv')\n",
    "# plt.rcParams['figure.figsize']=10,10\n",
    "# plt.pie(np.ones(361),colors=[str(color) for color in FF_plot],counterclock=False,startangle=FF.heri/2+90-180)\n",
    "# plt.show()"
   ]
  },
  {
   "cell_type": "code",
   "execution_count": 39,
   "metadata": {
    "scrolled": true
   },
   "outputs": [
    {
     "data": {
      "text/plain": [
       "<matplotlib.legend.Legend at 0x281a525c908>"
      ]
     },
     "execution_count": 39,
     "metadata": {},
     "output_type": "execute_result"
    },
    {
     "data": {
      "image/png": "[encoded data removed]",
      "text/plain": [
       "<Figure size 504x360 with 1 Axes>"
      ]
     },
     "metadata": {
      "needs_background": "light"
     },
     "output_type": "display_data"
    }
   ],
   "source": [
    "df_FF=pd.read_csv(FF.path+'FF_Ymin_phi.csv')\n",
    "plt.rcParams['font.size']=15\n",
    "plt.rcParams['figure.figsize']=7,5\n",
    "plt.xlabel('phi')\n",
    "plt.ylabel('FF')\n",
    "FF_Y_plot=[min(FF,0) for FF in df_FF['FF']]#-min(df_FF['FF']))/(0-min(df_FF['FF']))\n",
    "plt.plot(FF.phi1_list,FF_Y_plot,label='Y-type')\n",
    "plt.plot(FF.phi1_list,FF_plot,label='Z-type')\n",
    "plt.legend()"
   ]
  },
  {
   "cell_type": "markdown",
   "metadata": {},
   "source": [
    "# Z-type"
   ]
  },
  {
   "cell_type": "code",
   "execution_count": 29,
   "metadata": {},
   "outputs": [],
   "source": [
    "FF=FF_phi(R1=5.0,R2=0.7,heri=58.0,glide='a')"
   ]
  },
  {
   "cell_type": "code",
   "execution_count": 22,
   "metadata": {},
   "outputs": [],
   "source": [
    "FF.calc_phi()"
   ]
  },
  {
   "cell_type": "code",
   "execution_count": 30,
   "metadata": {},
   "outputs": [
    {
     "data": {
      "text/plain": [
       "[<matplotlib.lines.Line2D at 0x281a4fc4c18>]"
      ]
     },
     "execution_count": 30,
     "metadata": {},
     "output_type": "execute_result"
    },
    {
     "data": {
      "image/png": "[encoded data removed]",
      "text/plain": [
       "<Figure size 504x360 with 1 Axes>"
      ]
     },
     "metadata": {
      "needs_background": "light"
     },
     "output_type": "display_data"
    }
   ],
   "source": [
    "df_FF=pd.read_csv(FF.path+'FF_phi.csv')\n",
    "plt.rcParams['font.size']=15\n",
    "plt.rcParams['figure.figsize']=7,5\n",
    "plt.xlabel('phi')\n",
    "plt.ylabel('FF')\n",
    "FF_plot=[min(FF,0) for FF in df_FF['FF']]#-min(df_FF['FF']))/(0-min(df_FF['FF']))\n",
    "plt.plot(FF.phi1_list,FF_plot)"
   ]
  },
  {
   "cell_type": "markdown",
   "metadata": {},
   "source": [
    "### YorZのalkyl比較用"
   ]
  },
  {
   "cell_type": "code",
   "execution_count": 10,
   "metadata": {},
   "outputs": [],
   "source": [
    "#FF=FF_phi(R1=5.0,R2=0.7,heri=58.0,glide='a')\n",
    "FF=FF_phi(R1=5.0,R2=1.0,heri=58.0,glide='b')\n",
    "df_mono=pd.read_csv(FF.path+'monomer.csv') ###x,y,z,rad\n",
    "monomer=df_mono[['atom','X','Y','Z','R','q','sig','eps']].values\n",
    "BTBT_1,BTBT_others=FF.convertor(monomer,FF.heri/2,phi1=-135.0,phi2=0.0)\n",
    "df_min=pd.DataFrame(columns=['atom','X','Y','Z','R','q','sig','eps'],data=BTBT_1+BTBT_others[0]+BTBT_others[1]+BTBT_others[2]+BTBT_others[3])\n",
    "df_min.to_csv(\"C:\\\\Users\\\\youmo\\\\OneDrive\\\\Y_test.csv\",index=False)"
   ]
  },
  {
   "cell_type": "code",
   "execution_count": null,
   "metadata": {},
   "outputs": [],
   "source": []
  }
 ],
 "metadata": {
  "kernelspec": {
   "display_name": "Python 3",
   "language": "python",
   "name": "python3"
  },
  "language_info": {
   "codemirror_mode": {
    "name": "ipython",
    "version": 3
   },
   "file_extension": ".py",
   "mimetype": "text/x-python",
   "name": "python",
   "nbconvert_exporter": "python",
   "pygments_lexer": "ipython3",
   "version": "3.7.1"
  }
 },
 "nbformat": 4,
 "nbformat_minor": 2
}
