{
 "cells": [
  {
   "cell_type": "code",
   "execution_count": 1,
   "metadata": {},
   "outputs": [],
   "source": [
    "import os\n",
    "import sys\n",
    "sys.path.append('/Library/Frameworks/Python.framework/Versions/3.7/lib/python3.7/site-packages')\n",
    "import pandas as pd\n",
    "import matplotlib.pyplot as plt\n",
    "import matplotlib.cm as cm\n",
    "import numpy as np\n",
    "import shutil as sh\n",
    "import math\n",
    "import time\n",
    "import seaborn as sns\n",
    "from tqdm import tqdm"
   ]
  },
  {
   "cell_type": "markdown",
   "metadata": {},
   "source": [
    "# Φ1,Φ2の2自由度を導入"
   ]
  },
  {
   "cell_type": "code",
   "execution_count": 2,
   "metadata": {},
   "outputs": [],
   "source": [
    "class FF_phi1phi2():\n",
    "    \n",
    "    #ヘリンボーンパラメータとYorZ入れる。glide=a→Z, glide=b→Y\n",
    "    def __init__(self,R1,R2,heri,R3t,R3p,glide):\n",
    "        self.R1=R1;self.R2=R2;self.heri=heri;self.glide=glide\n",
    "        self.R3t=R3t;self.R3p=R3p\n",
    "        \n",
    "        self.path='/Users/jigenji/Working/interaction/mono-C9-BTBT/FF/'\n",
    "        \n",
    "        self.phi_list=np.linspace(-180.0,180.0,73)#回転角\n",
    "        \n",
    "        A_rad=np.radians(heri/2)\n",
    "        self.a_=2*(R1*np.cos(A_rad)-R2*np.sin(A_rad))\n",
    "        self.b_=2*(R2*np.cos(A_rad)+R1*np.sin(A_rad))\n",
    "\n",
    "        self.glide = glide\n",
    "        \n",
    "        #侵入の閾値\n",
    "        self.inv=1.0\n",
    "\n",
    "    #theta_in \n",
    "    def Rod(self,n,theta_in):\n",
    "        nx,ny,nz=n\n",
    "        theta_t=np.radians(theta_in)\n",
    "        Rod=np.array([[np.cos(theta_t)+(nx**2)*(1-np.cos(theta_t)),nx*ny*(1-np.cos(theta_t))-nz*np.sin(theta_t),nx*nz*(1-np.cos(theta_t))+ny*np.sin(theta_t)],\n",
    "                    [nx*ny*(1-np.cos(theta_t))+nz*np.sin(theta_t),np.cos(theta_t)+(ny**2)*(1-np.cos(theta_t)),ny*nz*(1-np.cos(theta_t))-nx*np.sin(theta_t)],\n",
    "                    [nx*nz*(1-np.cos(theta_t))-ny*np.sin(theta_t),ny*nz*(1-np.cos(theta_t))+nx*np.sin(theta_t),np.cos(theta_t)+(nz**2)*(1-np.cos(theta_t))]])\n",
    "        return Rod\n",
    "\n",
    "\n",
    "    #分子1分子2を作成(回転させただけ・平行移動なし)\n",
    "    def convertor(self,atom_list,A,phi1,phi2):#A=heri/2\n",
    "        atom_list_i=[];atom_list_pa=[];atom_list_pb=[]\n",
    "        atom_list_t1=[];atom_list_t2=[];atom_list_t3=[];atom_list_t4=[]\n",
    "        \n",
    "        #alkylの基準\n",
    "        C0=np.array([atom_list[16][1],atom_list[16][2],atom_list[16][3]])\n",
    "        C1=np.array([atom_list[23][1],atom_list[23][2],atom_list[23][3]])\n",
    "        \n",
    "        #phi1に関するalkylの軸\n",
    "        n1=C1-C0\n",
    "        n1/=np.linalg.norm(n1)\n",
    "        \n",
    "        #映進面によって回転角変える\n",
    "        glide=180.0 if self.glide=='a' else 0.0\n",
    "        \n",
    "        #alkyl回転・分子1作成\n",
    "        for ind,(atom,x,y,z,R,q,sig,eps) in enumerate(atom_list):\n",
    "            x1=x;y1=y;z1=z\n",
    "            x2=x;y2=y;z2=z\n",
    "            #alkylだけΦ回転　phi1=-phi2のとき映進\n",
    "            if ind>=23:#alkyl?\n",
    "                x1,y1,z1=np.matmul(self.Rod(n1,phi1),(np.array([x,y,z])-C0).T)\n",
    "                x1,y1,z1=C0+np.array([x1,y1,z1])\n",
    "                x2,y2,z2=np.matmul(self.Rod(n1,phi2),(np.array([x,y,z])-C0).T)\n",
    "                x2,y2,z2=C0+np.array([x2,y2,z2])\n",
    "            \n",
    "            #heri/2回転 i,t作成\n",
    "            x1,y1,z1=np.matmul(self.Rod(np.array([0,0,1]),A),np.array([x1,y1,z1]).T)\n",
    "            x2,y2,z2=np.matmul(self.Rod(np.array([0,0,1]),-A+glide),np.array([x2,y2,z2]).T)\n",
    "            \n",
    "            #基準分子\n",
    "            atom_list_i.append([atom,x1,y1,z1,R,q,sig,eps])\n",
    "            \n",
    "#             #a軸方向のp配置\n",
    "#             atom_list_pa.append([atom,\n",
    "#                                  self.a_+x1,\n",
    "#                                  y1,\n",
    "#                                  2*self.R3t-self.R3p+z1,\n",
    "#                                  R,q,sig,eps])\n",
    "            \n",
    "            #b軸方向のp配置\n",
    "            atom_list_pb.append([atom,\n",
    "                                 x1,\n",
    "                                 self.b_+y1,\n",
    "                                 self.R3p+z1,\n",
    "                                 R,q,sig,eps])\n",
    "            \n",
    "            #[a/2,b/2,R3t]平行移動\n",
    "            atom_list_t1.append([atom,\n",
    "                                 self.a_/2+x2,\n",
    "                                 self.b_/2+y2,\n",
    "                                 self.R3t+z2,\n",
    "                                 R,q,sig,eps]) \n",
    "            \n",
    "            #[a/2,-b/2,R3t-R3p]平行移動\n",
    "            atom_list_t2.append([atom,\n",
    "                                 self.a_/2+x2,\n",
    "                                 -self.b_/2+y2,\n",
    "                                 self.R3t-self.R3p+z2,\n",
    "                                 R,q,sig,eps])\n",
    "            \n",
    "            #[-a/2,-b/2,-R3t]平行移動\n",
    "            atom_list_t3.append([atom,\n",
    "                                 -self.a_/2+x2,\n",
    "                                 -self.b_/2+y2,\n",
    "                                 -self.R3t+z2,\n",
    "                                 R,q,sig,eps])\n",
    "            \n",
    "            #[-a/2,b/2,-R3t+R3p]平行移動\n",
    "            atom_list_t4.append([atom,\n",
    "                                 -self.a_/2+x2,\n",
    "                                 self.b_/2+y2,\n",
    "                                 -self.R3t+self.R3p+z2,\n",
    "                                 R,q,sig,eps])\n",
    "                            \n",
    "        atom_list_others=[atom_list_pb,atom_list_t1,atom_list_t2,atom_list_t3,atom_list_t4]#atom_list_pa,\n",
    "        return atom_list_i,atom_list_others\n",
    "\n",
    "    #phiの範囲を出力\n",
    "    def calc_phi(self):\n",
    "        type_='Y' if self.glide=='b' else 'Z'\n",
    "        print(os.path.join(self.path,'glide={}/FF_phi1phi2_{}-type_R3t={}_R3p={}.csv'.format(self.glide,type_,self.R3t,self.R3p)))\n",
    "        if os.path.exists(os.path.join(self.path,'glide={}/FF_phi1phi2_{}-type_R3t={}_R3p={}.csv'.format(self.glide,type_,self.R3t,self.R3p))):\n",
    "            return\n",
    "        df=pd.DataFrame(columns=['R1','R2','heri','R3t','R3p','phi1','phi2','FF'])\n",
    "        df_mono=pd.read_csv(self.path+'monomer.csv') ###x,y,z,rad\n",
    "        monomer=df_mono[['atom','X','Y','Z','R','q','sig','eps']].values\n",
    "        e=1.602176634*(10**(-19))\n",
    "        \n",
    "        \n",
    "        start=time.time()\n",
    "        for phi1 in tqdm(self.phi_list):\n",
    "            for phi2 in self.phi_list:\n",
    "                BTBT_1,BTBT_others=self.convertor(monomer,self.heri/2,phi1,phi2)\n",
    "                \n",
    "                #FF\n",
    "                FF_list=[]\n",
    "\n",
    "                #アルキルの各原子同士が衝突したらbreak\n",
    "#                 st= time.time()\n",
    "                for ind1,(atom1,x1,y1,z1,R1,q1,sig1,eps1) in enumerate(BTBT_1[23:]):\n",
    "                    for ind2,BTBT_2 in enumerate(BTBT_others):\n",
    "                        FF=0\n",
    "                        for ind3,(atom2,x2,y2,z2,R2,q2,sig2,eps2) in enumerate(BTBT_2[23:]):\n",
    "                            \n",
    "                            r=np.linalg.norm([x1-x2,y1-y2,z1-z2])\n",
    "                            q=q1*q2*(e**2)\n",
    "                            sig=np.sqrt(sig1*sig2)\n",
    "                            eps=np.sqrt(eps1*eps2)\n",
    "                            FF+=q/r+4*eps*((sig/r)**12-(sig/r)**6)\n",
    "                        FF_list.append(FF)\n",
    "#                 print(time.time()-st)\n",
    "                #平行配置だけ2倍\n",
    "                FF_sum=sum(FF_list)+FF_list[0]\n",
    "                \n",
    "                \n",
    "                data=pd.Series([self.R1,self.R2,self.heri,self.R3t,self.R3p,phi1,phi2,FF_sum],index=['R1','R2','heri','R3t','R3p','phi1','phi2','FF'])\n",
    "                df=df.append(data,ignore_index=True)\n",
    "            \n",
    "#             if ind%30==29:\n",
    "#                 print(\"{}% finished\".format(int(100*ind/len(self.phi_list))))\n",
    "            \n",
    "        \n",
    "        df.to_csv(os.path.join(self.path,'glide={}/FF_phi1phi2_{}-type_R3t={}_R3p={}.csv'.format(self.glide,type_,self.R3t,self.R3p)),index=False)\n",
    "\n",
    "    # def calc_FF_min(self):\n",
    "    #     type_ = 'Z' if glide_mode=='a' else 'Y'\n",
    "    #     FF_path = os.path.join(self.path,'glide={}/FF_phi1phi2_{}-type_R3t={}_R3p={}.csv'.format(self.glide,type_,self.R3t,self.R3p))\n",
    "    #     df_FF = pd.read_csv(FF_path)\n",
    "    #     b= df_FF[['R1','R2','heri','R3t','R3p','phi1','phi2','FF']].values\n",
    "    #     for phi1 in tqdm(self.phi_list):\n",
    "    #         for phi2 in self.phi_list:\n"
   ]
  },
  {
   "cell_type": "markdown",
   "metadata": {},
   "source": [
    "# test (step1 Ymin)"
   ]
  },
  {
   "cell_type": "code",
   "execution_count": 1,
   "metadata": {
    "tags": []
   },
   "outputs": [],
   "source": [
    "for R3t in np.linspace(-2.0,2.0,41):\n",
    "    for R3p in np.linspace(-2.0,2.0,41):\n",
    "        R3t=np.round(R3t,1)\n",
    "        R3p=np.round(R3p,1)\n",
    "        FF=FF_phi1phi2(R1=5.0,R2=1.0,heri=58.0,R3t=R3t,R3p=R3p,glide='b')\n",
    "        FF.calc_phi()\n",
    "# FF=FF_phi1phi2(R1=5.0,R2=0.7,heri=58.0,R3t=0.0,R3p=0.0,glide='a')"
   ]
  },
  {
   "cell_type": "code",
   "execution_count": 126,
   "metadata": {},
   "outputs": [
    {
     "output_type": "stream",
     "name": "stderr",
     "text": [
      "  0%|          | 0/73 [00:00<?, ?it/s]/Users/jigenji/Working/interaction/mono-C9-BTBT/FF/glide=b/FF_phi1phi2_Y-type_R3t=1.5_R3p=-0.9.csv\n",
      "100%|██████████| 73/73 [05:59<00:00,  4.92s/it]\n"
     ]
    }
   ],
   "source": [
    "#不足分追加。\n",
    "os.remove('/Users/jigenji/Working/interaction/mono-C9-BTBT/FF/glide=b/FF_phi1phi2_Y-type_R3t=1.5_R3p=-0.9.csv')\n",
    "R3t=1.5\n",
    "R3p=-0.9\n",
    "FF=FF_phi1phi2(R1=5.0,R2=1.0,heri=58.0,R3t=R3t,R3p=R3p,glide='b')\n",
    "FF.calc_phi()"
   ]
  },
  {
   "cell_type": "code",
   "execution_count": 12,
   "metadata": {},
   "outputs": [
    {
     "data": {
      "text/plain": [
       "<matplotlib.axes._subplots.AxesSubplot at 0x25a57fc66c8>"
      ]
     },
     "execution_count": 12,
     "metadata": {},
     "output_type": "execute_result"
    },
    {
     "data": {
      "image/png": "[encoded data removed]",
      "text/plain": [
       "<Figure size 720x504 with 2 Axes>"
      ]
     },
     "metadata": {
      "needs_background": "light"
     },
     "output_type": "display_data"
    }
   ],
   "source": [
    "df_FF=pd.read_csv(FF.path+'FF_phi1phi2_Y-type_R3t=0.0_R3p=0.0.csv')\n",
    "\n",
    "plt.rcParams['figure.figsize']=10,7\n",
    "plt.rcParams['font.size']=15\n",
    "import seaborn as sns\n",
    "sns.heatmap(df_FF.pivot(\"phi2\", \"phi1\", \"FF\"),vmax=0.0,xticklabels=45,yticklabels=45)"
   ]
  },
  {
   "cell_type": "code",
   "execution_count": 57,
   "metadata": {},
   "outputs": [
    {
     "output_type": "stream",
     "name": "stderr",
     "text": [
      "MovieWriter imagemagick unavailable; using Pillow instead.\n"
     ]
    },
    {
     "output_type": "display_data",
     "data": {
      "text/plain": "<Figure size 288x288 with 1 Axes>",
      "image/svg+xml": "<?xml version=\"1.0\" encoding=\"utf-8\" standalone=\"no\"?>\n<!DOCTYPE svg PUBLIC \"-//W3C//DTD SVG 1.1//EN\"\n  \"http://www.w3.org/Graphics/SVG/1.1/DTD/svg11.dtd\">\n<!-- Created with matplotlib (https://matplotlib.org/) -->\n<svg height=\"265.120393pt\" version=\"1.1\" viewBox=\"0 0 265.243125 265.120393\" width=\"265.243125pt\" xmlns=\"http://www.w3.org/2000/svg\" xmlns:xlink=\"http://www.w3.org/1999/xlink\">\n <metadata>\n  <rdf:RDF xmlns:cc=\"http://creativecommons.org/ns#\" xmlns:dc=\"http://purl.org/dc/elements/1.1/\" xmlns:rdf=\"http://www.w3.org/1999/02/22-rdf-syntax-ns#\">\n   <cc:Work>\n    <dc:type rdf:resource=\"http://purl.org/dc/dcmitype/StillImage\"/>\n    <dc:date>2021-02-24T03:46:49.627075</dc:date>\n    <dc:format>image/svg+xml</dc:format>\n    <dc:creator>\n     <cc:Agent>\n      <dc:title>Matplotlib v3.3.3, https://matplotlib.org/</dc:title>\n     </cc:Agent>\n    </dc:creator>\n   </cc:Work>\n  </rdf:RDF>\n </metadata>\n <defs>\n  <style type=\"text/css\">*{stroke-linecap:butt;stroke-linejoin:round;}</style>\n </defs>\n <g id=\"figure_1\">\n  <g id=\"patch_1\">\n   <path d=\"M 0 265.120393 \nL 265.243125 265.120393 \nL 265.243125 0 \nL 0 0 \nz\n\" style=\"fill:none;\"/>\n  </g>\n  <g id=\"axes_1\">\n   <g id=\"patch_2\">\n    <path d=\"M 40.603125 227.564143 \nL 258.043125 227.564143 \nL 258.043125 10.124143 \nL 40.603125 10.124143 \nz\n\" style=\"fill:#ffffff;\"/>\n   </g>\n   <g clip-path=\"url(#pe0ec87ce2e)\">\n    <image height=\"218\" id=\"image8a3d5ae5e8\" transform=\"scale(1 -1)translate(0 -218)\" width=\"217\" x=\"41\" xlink:href=\"data:image/png;base64,\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\" y=\"-9.120393\"/>\n   </g>\n   <g id=\"matplotlib.axis_1\">\n    <g id=\"xtick_1\">\n     <g id=\"line2d_1\">\n      <defs>\n       <path d=\"M 0 0 \nL 0 3.5 \n\" id=\"mee5209d39c\" style=\"stroke:#000000;stroke-width:0.8;\"/>\n      </defs>\n      <g>\n       <use style=\"stroke:#000000;stroke-width:0.8;\" x=\"42.09244\" xlink:href=\"#mee5209d39c\" y=\"227.564143\"/>\n      </g>\n     </g>\n     <g id=\"text_1\">\n      <!-- 0 -->\n      <g transform=\"translate(38.91119 242.162581)scale(0.1 -0.1)\">\n       <defs>\n        <path d=\"M 31.78125 66.40625 \nQ 24.171875 66.40625 20.328125 58.90625 \nQ 16.5 51.421875 16.5 36.375 \nQ 16.5 21.390625 20.328125 13.890625 \nQ 24.171875 6.390625 31.78125 6.390625 \nQ 39.453125 6.390625 43.28125 13.890625 \nQ 47.125 21.390625 47.125 36.375 \nQ 47.125 51.421875 43.28125 58.90625 \nQ 39.453125 66.40625 31.78125 66.40625 \nz\nM 31.78125 74.21875 \nQ 44.046875 74.21875 50.515625 64.515625 \nQ 56.984375 54.828125 56.984375 36.375 \nQ 56.984375 17.96875 50.515625 8.265625 \nQ 44.046875 -1.421875 31.78125 -1.421875 \nQ 19.53125 -1.421875 13.0625 8.265625 \nQ 6.59375 17.96875 6.59375 36.375 \nQ 6.59375 54.828125 13.0625 64.515625 \nQ 19.53125 74.21875 31.78125 74.21875 \nz\n\" id=\"DejaVuSans-48\"/>\n       </defs>\n       <use xlink:href=\"#DejaVuSans-48\"/>\n      </g>\n     </g>\n    </g>\n    <g id=\"xtick_2\">\n     <g id=\"line2d_2\">\n      <g>\n       <use style=\"stroke:#000000;stroke-width:0.8;\" x=\"101.665043\" xlink:href=\"#mee5209d39c\" y=\"227.564143\"/>\n      </g>\n     </g>\n     <g id=\"text_2\">\n      <!-- 20 -->\n      <g transform=\"translate(95.302543 242.162581)scale(0.1 -0.1)\">\n       <defs>\n        <path d=\"M 19.1875 8.296875 \nL 53.609375 8.296875 \nL 53.609375 0 \nL 7.328125 0 \nL 7.328125 8.296875 \nQ 12.9375 14.109375 22.625 23.890625 \nQ 32.328125 33.6875 34.8125 36.53125 \nQ 39.546875 41.84375 41.421875 45.53125 \nQ 43.3125 49.21875 43.3125 52.78125 \nQ 43.3125 58.59375 39.234375 62.25 \nQ 35.15625 65.921875 28.609375 65.921875 \nQ 23.96875 65.921875 18.8125 64.3125 \nQ 13.671875 62.703125 7.8125 59.421875 \nL 7.8125 69.390625 \nQ 13.765625 71.78125 18.9375 73 \nQ 24.125 74.21875 28.421875 74.21875 \nQ 39.75 74.21875 46.484375 68.546875 \nQ 53.21875 62.890625 53.21875 53.421875 \nQ 53.21875 48.921875 51.53125 44.890625 \nQ 49.859375 40.875 45.40625 35.40625 \nQ 44.1875 33.984375 37.640625 27.21875 \nQ 31.109375 20.453125 19.1875 8.296875 \nz\n\" id=\"DejaVuSans-50\"/>\n       </defs>\n       <use xlink:href=\"#DejaVuSans-50\"/>\n       <use x=\"63.623047\" xlink:href=\"#DejaVuSans-48\"/>\n      </g>\n     </g>\n    </g>\n    <g id=\"xtick_3\">\n     <g id=\"line2d_3\">\n      <g>\n       <use style=\"stroke:#000000;stroke-width:0.8;\" x=\"161.237646\" xlink:href=\"#mee5209d39c\" y=\"227.564143\"/>\n      </g>\n     </g>\n     <g id=\"text_3\">\n      <!-- 40 -->\n      <g transform=\"translate(154.875146 242.162581)scale(0.1 -0.1)\">\n       <defs>\n        <path d=\"M 37.796875 64.3125 \nL 12.890625 25.390625 \nL 37.796875 25.390625 \nz\nM 35.203125 72.90625 \nL 47.609375 72.90625 \nL 47.609375 25.390625 \nL 58.015625 25.390625 \nL 58.015625 17.1875 \nL 47.609375 17.1875 \nL 47.609375 0 \nL 37.796875 0 \nL 37.796875 17.1875 \nL 4.890625 17.1875 \nL 4.890625 26.703125 \nz\n\" id=\"DejaVuSans-52\"/>\n       </defs>\n       <use xlink:href=\"#DejaVuSans-52\"/>\n       <use x=\"63.623047\" xlink:href=\"#DejaVuSans-48\"/>\n      </g>\n     </g>\n    </g>\n    <g id=\"xtick_4\">\n     <g id=\"line2d_4\">\n      <g>\n       <use style=\"stroke:#000000;stroke-width:0.8;\" x=\"220.810248\" xlink:href=\"#mee5209d39c\" y=\"227.564143\"/>\n      </g>\n     </g>\n     <g id=\"text_4\">\n      <!-- 60 -->\n      <g transform=\"translate(214.447748 242.162581)scale(0.1 -0.1)\">\n       <defs>\n        <path d=\"M 33.015625 40.375 \nQ 26.375 40.375 22.484375 35.828125 \nQ 18.609375 31.296875 18.609375 23.390625 \nQ 18.609375 15.53125 22.484375 10.953125 \nQ 26.375 6.390625 33.015625 6.390625 \nQ 39.65625 6.390625 43.53125 10.953125 \nQ 47.40625 15.53125 47.40625 23.390625 \nQ 47.40625 31.296875 43.53125 35.828125 \nQ 39.65625 40.375 33.015625 40.375 \nz\nM 52.59375 71.296875 \nL 52.59375 62.3125 \nQ 48.875 64.0625 45.09375 64.984375 \nQ 41.3125 65.921875 37.59375 65.921875 \nQ 27.828125 65.921875 22.671875 59.328125 \nQ 17.53125 52.734375 16.796875 39.40625 \nQ 19.671875 43.65625 24.015625 45.921875 \nQ 28.375 48.1875 33.59375 48.1875 \nQ 44.578125 48.1875 50.953125 41.515625 \nQ 57.328125 34.859375 57.328125 23.390625 \nQ 57.328125 12.15625 50.6875 5.359375 \nQ 44.046875 -1.421875 33.015625 -1.421875 \nQ 20.359375 -1.421875 13.671875 8.265625 \nQ 6.984375 17.96875 6.984375 36.375 \nQ 6.984375 53.65625 15.1875 63.9375 \nQ 23.390625 74.21875 37.203125 74.21875 \nQ 40.921875 74.21875 44.703125 73.484375 \nQ 48.484375 72.75 52.59375 71.296875 \nz\n\" id=\"DejaVuSans-54\"/>\n       </defs>\n       <use xlink:href=\"#DejaVuSans-54\"/>\n       <use x=\"63.623047\" xlink:href=\"#DejaVuSans-48\"/>\n      </g>\n     </g>\n    </g>\n    <g id=\"text_5\">\n     <!-- phi1 -->\n     <g transform=\"translate(138.409844 255.840706)scale(0.1 -0.1)\">\n      <defs>\n       <path d=\"M 18.109375 8.203125 \nL 18.109375 -20.796875 \nL 9.078125 -20.796875 \nL 9.078125 54.6875 \nL 18.109375 54.6875 \nL 18.109375 46.390625 \nQ 20.953125 51.265625 25.265625 53.625 \nQ 29.59375 56 35.59375 56 \nQ 45.5625 56 51.78125 48.09375 \nQ 58.015625 40.1875 58.015625 27.296875 \nQ 58.015625 14.40625 51.78125 6.484375 \nQ 45.5625 -1.421875 35.59375 -1.421875 \nQ 29.59375 -1.421875 25.265625 0.953125 \nQ 20.953125 3.328125 18.109375 8.203125 \nz\nM 48.6875 27.296875 \nQ 48.6875 37.203125 44.609375 42.84375 \nQ 40.53125 48.484375 33.40625 48.484375 \nQ 26.265625 48.484375 22.1875 42.84375 \nQ 18.109375 37.203125 18.109375 27.296875 \nQ 18.109375 17.390625 22.1875 11.75 \nQ 26.265625 6.109375 33.40625 6.109375 \nQ 40.53125 6.109375 44.609375 11.75 \nQ 48.6875 17.390625 48.6875 27.296875 \nz\n\" id=\"DejaVuSans-112\"/>\n       <path d=\"M 54.890625 33.015625 \nL 54.890625 0 \nL 45.90625 0 \nL 45.90625 32.71875 \nQ 45.90625 40.484375 42.875 44.328125 \nQ 39.84375 48.1875 33.796875 48.1875 \nQ 26.515625 48.1875 22.3125 43.546875 \nQ 18.109375 38.921875 18.109375 30.90625 \nL 18.109375 0 \nL 9.078125 0 \nL 9.078125 75.984375 \nL 18.109375 75.984375 \nL 18.109375 46.1875 \nQ 21.34375 51.125 25.703125 53.5625 \nQ 30.078125 56 35.796875 56 \nQ 45.21875 56 50.046875 50.171875 \nQ 54.890625 44.34375 54.890625 33.015625 \nz\n\" id=\"DejaVuSans-104\"/>\n       <path d=\"M 9.421875 54.6875 \nL 18.40625 54.6875 \nL 18.40625 0 \nL 9.421875 0 \nz\nM 9.421875 75.984375 \nL 18.40625 75.984375 \nL 18.40625 64.59375 \nL 9.421875 64.59375 \nz\n\" id=\"DejaVuSans-105\"/>\n       <path d=\"M 12.40625 8.296875 \nL 28.515625 8.296875 \nL 28.515625 63.921875 \nL 10.984375 60.40625 \nL 10.984375 69.390625 \nL 28.421875 72.90625 \nL 38.28125 72.90625 \nL 38.28125 8.296875 \nL 54.390625 8.296875 \nL 54.390625 0 \nL 12.40625 0 \nz\n\" id=\"DejaVuSans-49\"/>\n      </defs>\n      <use xlink:href=\"#DejaVuSans-112\"/>\n      <use x=\"63.476562\" xlink:href=\"#DejaVuSans-104\"/>\n      <use x=\"126.855469\" xlink:href=\"#DejaVuSans-105\"/>\n      <use x=\"154.638672\" xlink:href=\"#DejaVuSans-49\"/>\n     </g>\n    </g>\n   </g>\n   <g id=\"matplotlib.axis_2\">\n    <g id=\"ytick_1\">\n     <g id=\"line2d_5\">\n      <defs>\n       <path d=\"M 0 0 \nL -3.5 0 \n\" id=\"mc078aba24c\" style=\"stroke:#000000;stroke-width:0.8;\"/>\n      </defs>\n      <g>\n       <use style=\"stroke:#000000;stroke-width:0.8;\" x=\"40.603125\" xlink:href=\"#mc078aba24c\" y=\"11.613459\"/>\n      </g>\n     </g>\n     <g id=\"text_6\">\n      <!-- 0 -->\n      <g transform=\"translate(27.240625 15.412677)scale(0.1 -0.1)\">\n       <use xlink:href=\"#DejaVuSans-48\"/>\n      </g>\n     </g>\n    </g>\n    <g id=\"ytick_2\">\n     <g id=\"line2d_6\">\n      <g>\n       <use style=\"stroke:#000000;stroke-width:0.8;\" x=\"40.603125\" xlink:href=\"#mc078aba24c\" y=\"41.39976\"/>\n      </g>\n     </g>\n     <g id=\"text_7\">\n      <!-- 10 -->\n      <g transform=\"translate(20.878125 45.198979)scale(0.1 -0.1)\">\n       <use xlink:href=\"#DejaVuSans-49\"/>\n       <use x=\"63.623047\" xlink:href=\"#DejaVuSans-48\"/>\n      </g>\n     </g>\n    </g>\n    <g id=\"ytick_3\">\n     <g id=\"line2d_7\">\n      <g>\n       <use style=\"stroke:#000000;stroke-width:0.8;\" x=\"40.603125\" xlink:href=\"#mc078aba24c\" y=\"71.186061\"/>\n      </g>\n     </g>\n     <g id=\"text_8\">\n      <!-- 20 -->\n      <g transform=\"translate(20.878125 74.98528)scale(0.1 -0.1)\">\n       <use xlink:href=\"#DejaVuSans-50\"/>\n       <use x=\"63.623047\" xlink:href=\"#DejaVuSans-48\"/>\n      </g>\n     </g>\n    </g>\n    <g id=\"ytick_4\">\n     <g id=\"line2d_8\">\n      <g>\n       <use style=\"stroke:#000000;stroke-width:0.8;\" x=\"40.603125\" xlink:href=\"#mc078aba24c\" y=\"100.972363\"/>\n      </g>\n     </g>\n     <g id=\"text_9\">\n      <!-- 30 -->\n      <g transform=\"translate(20.878125 104.771581)scale(0.1 -0.1)\">\n       <defs>\n        <path d=\"M 40.578125 39.3125 \nQ 47.65625 37.796875 51.625 33 \nQ 55.609375 28.21875 55.609375 21.1875 \nQ 55.609375 10.40625 48.1875 4.484375 \nQ 40.765625 -1.421875 27.09375 -1.421875 \nQ 22.515625 -1.421875 17.65625 -0.515625 \nQ 12.796875 0.390625 7.625 2.203125 \nL 7.625 11.71875 \nQ 11.71875 9.328125 16.59375 8.109375 \nQ 21.484375 6.890625 26.8125 6.890625 \nQ 36.078125 6.890625 40.9375 10.546875 \nQ 45.796875 14.203125 45.796875 21.1875 \nQ 45.796875 27.640625 41.28125 31.265625 \nQ 36.765625 34.90625 28.71875 34.90625 \nL 20.21875 34.90625 \nL 20.21875 43.015625 \nL 29.109375 43.015625 \nQ 36.375 43.015625 40.234375 45.921875 \nQ 44.09375 48.828125 44.09375 54.296875 \nQ 44.09375 59.90625 40.109375 62.90625 \nQ 36.140625 65.921875 28.71875 65.921875 \nQ 24.65625 65.921875 20.015625 65.03125 \nQ 15.375 64.15625 9.8125 62.3125 \nL 9.8125 71.09375 \nQ 15.4375 72.65625 20.34375 73.4375 \nQ 25.25 74.21875 29.59375 74.21875 \nQ 40.828125 74.21875 47.359375 69.109375 \nQ 53.90625 64.015625 53.90625 55.328125 \nQ 53.90625 49.265625 50.4375 45.09375 \nQ 46.96875 40.921875 40.578125 39.3125 \nz\n\" id=\"DejaVuSans-51\"/>\n       </defs>\n       <use xlink:href=\"#DejaVuSans-51\"/>\n       <use x=\"63.623047\" xlink:href=\"#DejaVuSans-48\"/>\n      </g>\n     </g>\n    </g>\n    <g id=\"ytick_5\">\n     <g id=\"line2d_9\">\n      <g>\n       <use style=\"stroke:#000000;stroke-width:0.8;\" x=\"40.603125\" xlink:href=\"#mc078aba24c\" y=\"130.758664\"/>\n      </g>\n     </g>\n     <g id=\"text_10\">\n      <!-- 40 -->\n      <g transform=\"translate(20.878125 134.557883)scale(0.1 -0.1)\">\n       <use xlink:href=\"#DejaVuSans-52\"/>\n       <use x=\"63.623047\" xlink:href=\"#DejaVuSans-48\"/>\n      </g>\n     </g>\n    </g>\n    <g id=\"ytick_6\">\n     <g id=\"line2d_10\">\n      <g>\n       <use style=\"stroke:#000000;stroke-width:0.8;\" x=\"40.603125\" xlink:href=\"#mc078aba24c\" y=\"160.544965\"/>\n      </g>\n     </g>\n     <g id=\"text_11\">\n      <!-- 50 -->\n      <g transform=\"translate(20.878125 164.344184)scale(0.1 -0.1)\">\n       <defs>\n        <path d=\"M 10.796875 72.90625 \nL 49.515625 72.90625 \nL 49.515625 64.59375 \nL 19.828125 64.59375 \nL 19.828125 46.734375 \nQ 21.96875 47.46875 24.109375 47.828125 \nQ 26.265625 48.1875 28.421875 48.1875 \nQ 40.625 48.1875 47.75 41.5 \nQ 54.890625 34.8125 54.890625 23.390625 \nQ 54.890625 11.625 47.5625 5.09375 \nQ 40.234375 -1.421875 26.90625 -1.421875 \nQ 22.3125 -1.421875 17.546875 -0.640625 \nQ 12.796875 0.140625 7.71875 1.703125 \nL 7.71875 11.625 \nQ 12.109375 9.234375 16.796875 8.0625 \nQ 21.484375 6.890625 26.703125 6.890625 \nQ 35.15625 6.890625 40.078125 11.328125 \nQ 45.015625 15.765625 45.015625 23.390625 \nQ 45.015625 31 40.078125 35.4375 \nQ 35.15625 39.890625 26.703125 39.890625 \nQ 22.75 39.890625 18.8125 39.015625 \nQ 14.890625 38.140625 10.796875 36.28125 \nz\n\" id=\"DejaVuSans-53\"/>\n       </defs>\n       <use xlink:href=\"#DejaVuSans-53\"/>\n       <use x=\"63.623047\" xlink:href=\"#DejaVuSans-48\"/>\n      </g>\n     </g>\n    </g>\n    <g id=\"ytick_7\">\n     <g id=\"line2d_11\">\n      <g>\n       <use style=\"stroke:#000000;stroke-width:0.8;\" x=\"40.603125\" xlink:href=\"#mc078aba24c\" y=\"190.331267\"/>\n      </g>\n     </g>\n     <g id=\"text_12\">\n      <!-- 60 -->\n      <g transform=\"translate(20.878125 194.130486)scale(0.1 -0.1)\">\n       <use xlink:href=\"#DejaVuSans-54\"/>\n       <use x=\"63.623047\" xlink:href=\"#DejaVuSans-48\"/>\n      </g>\n     </g>\n    </g>\n    <g id=\"ytick_8\">\n     <g id=\"line2d_12\">\n      <g>\n       <use style=\"stroke:#000000;stroke-width:0.8;\" x=\"40.603125\" xlink:href=\"#mc078aba24c\" y=\"220.117568\"/>\n      </g>\n     </g>\n     <g id=\"text_13\">\n      <!-- 70 -->\n      <g transform=\"translate(20.878125 223.916787)scale(0.1 -0.1)\">\n       <defs>\n        <path d=\"M 8.203125 72.90625 \nL 55.078125 72.90625 \nL 55.078125 68.703125 \nL 28.609375 0 \nL 18.3125 0 \nL 43.21875 64.59375 \nL 8.203125 64.59375 \nz\n\" id=\"DejaVuSans-55\"/>\n       </defs>\n       <use xlink:href=\"#DejaVuSans-55\"/>\n       <use x=\"63.623047\" xlink:href=\"#DejaVuSans-48\"/>\n      </g>\n     </g>\n    </g>\n    <g id=\"text_14\">\n     <!-- phi2 -->\n     <g transform=\"translate(14.798438 129.757425)rotate(-90)scale(0.1 -0.1)\">\n      <use xlink:href=\"#DejaVuSans-112\"/>\n      <use x=\"63.476562\" xlink:href=\"#DejaVuSans-104\"/>\n      <use x=\"126.855469\" xlink:href=\"#DejaVuSans-105\"/>\n      <use x=\"154.638672\" xlink:href=\"#DejaVuSans-50\"/>\n     </g>\n    </g>\n   </g>\n   <g id=\"patch_3\">\n    <path d=\"M 40.603125 227.564143 \nL 40.603125 10.124143 \n\" style=\"fill:none;stroke:#000000;stroke-linecap:square;stroke-linejoin:miter;stroke-width:0.8;\"/>\n   </g>\n   <g id=\"patch_4\">\n    <path d=\"M 258.043125 227.564143 \nL 258.043125 10.124143 \n\" style=\"fill:none;stroke:#000000;stroke-linecap:square;stroke-linejoin:miter;stroke-width:0.8;\"/>\n   </g>\n   <g id=\"patch_5\">\n    <path d=\"M 40.603125 227.564143 \nL 258.043125 227.564143 \n\" style=\"fill:none;stroke:#000000;stroke-linecap:square;stroke-linejoin:miter;stroke-width:0.8;\"/>\n   </g>\n   <g id=\"patch_6\">\n    <path d=\"M 40.603125 10.124143 \nL 258.043125 10.124143 \n\" style=\"fill:none;stroke:#000000;stroke-linecap:square;stroke-linejoin:miter;stroke-width:0.8;\"/>\n   </g>\n   <g id=\"text_15\">\n    <!-- R3t=2.0_R3p=1.0 -->\n    <g transform=\"translate(43.581755 14.621875)scale(0.1 -0.1)\">\n     <defs>\n      <path d=\"M 44.390625 34.1875 \nQ 47.5625 33.109375 50.5625 29.59375 \nQ 53.5625 26.078125 56.59375 19.921875 \nL 66.609375 0 \nL 56 0 \nL 46.6875 18.703125 \nQ 43.0625 26.03125 39.671875 28.421875 \nQ 36.28125 30.8125 30.421875 30.8125 \nL 19.671875 30.8125 \nL 19.671875 0 \nL 9.8125 0 \nL 9.8125 72.90625 \nL 32.078125 72.90625 \nQ 44.578125 72.90625 50.734375 67.671875 \nQ 56.890625 62.453125 56.890625 51.90625 \nQ 56.890625 45.015625 53.6875 40.46875 \nQ 50.484375 35.9375 44.390625 34.1875 \nz\nM 19.671875 64.796875 \nL 19.671875 38.921875 \nL 32.078125 38.921875 \nQ 39.203125 38.921875 42.84375 42.21875 \nQ 46.484375 45.515625 46.484375 51.90625 \nQ 46.484375 58.296875 42.84375 61.546875 \nQ 39.203125 64.796875 32.078125 64.796875 \nz\n\" id=\"DejaVuSans-82\"/>\n      <path d=\"M 18.3125 70.21875 \nL 18.3125 54.6875 \nL 36.8125 54.6875 \nL 36.8125 47.703125 \nL 18.3125 47.703125 \nL 18.3125 18.015625 \nQ 18.3125 11.328125 20.140625 9.421875 \nQ 21.96875 7.515625 27.59375 7.515625 \nL 36.8125 7.515625 \nL 36.8125 0 \nL 27.59375 0 \nQ 17.1875 0 13.234375 3.875 \nQ 9.28125 7.765625 9.28125 18.015625 \nL 9.28125 47.703125 \nL 2.6875 47.703125 \nL 2.6875 54.6875 \nL 9.28125 54.6875 \nL 9.28125 70.21875 \nz\n\" id=\"DejaVuSans-116\"/>\n      <path d=\"M 10.59375 45.40625 \nL 73.1875 45.40625 \nL 73.1875 37.203125 \nL 10.59375 37.203125 \nz\nM 10.59375 25.484375 \nL 73.1875 25.484375 \nL 73.1875 17.1875 \nL 10.59375 17.1875 \nz\n\" id=\"DejaVuSans-61\"/>\n      <path d=\"M 10.6875 12.40625 \nL 21 12.40625 \nL 21 0 \nL 10.6875 0 \nz\n\" id=\"DejaVuSans-46\"/>\n      <path d=\"M 50.984375 -16.609375 \nL 50.984375 -23.578125 \nL -0.984375 -23.578125 \nL -0.984375 -16.609375 \nz\n\" id=\"DejaVuSans-95\"/>\n     </defs>\n     <use xlink:href=\"#DejaVuSans-82\"/>\n     <use x=\"69.482422\" xlink:href=\"#DejaVuSans-51\"/>\n     <use x=\"133.105469\" xlink:href=\"#DejaVuSans-116\"/>\n     <use x=\"172.314453\" xlink:href=\"#DejaVuSans-61\"/>\n     <use x=\"256.103516\" xlink:href=\"#DejaVuSans-50\"/>\n     <use x=\"319.726562\" xlink:href=\"#DejaVuSans-46\"/>\n     <use x=\"351.513672\" xlink:href=\"#DejaVuSans-48\"/>\n     <use x=\"415.136719\" xlink:href=\"#DejaVuSans-95\"/>\n     <use x=\"465.136719\" xlink:href=\"#DejaVuSans-82\"/>\n     <use x=\"534.619141\" xlink:href=\"#DejaVuSans-51\"/>\n     <use x=\"598.242188\" xlink:href=\"#DejaVuSans-112\"/>\n     <use x=\"661.71875\" xlink:href=\"#DejaVuSans-61\"/>\n     <use x=\"745.507812\" xlink:href=\"#DejaVuSans-49\"/>\n     <use x=\"809.130859\" xlink:href=\"#DejaVuSans-46\"/>\n     <use x=\"840.917969\" xlink:href=\"#DejaVuSans-48\"/>\n    </g>\n   </g>\n  </g>\n </g>\n <defs>\n  <clipPath id=\"pe0ec87ce2e\">\n   <rect height=\"217.44\" width=\"217.44\" x=\"40.603125\" y=\"10.124143\"/>\n  </clipPath>\n </defs>\n</svg>\n",
      "image/png": "[encoded data removed]"
     },
     "metadata": {
      "needs_background": "light"
     }
    }
   ],
   "source": [
    "from matplotlib.animation import ArtistAnimation\n",
    "\n",
    "R3p=1.0\n",
    "glide_mode='b'\n",
    "\n",
    "# fig = plt.figure()\n",
    "fig, ax = plt.subplots(figsize=(4, 4))\n",
    "ims = []\n",
    "YorZ = 'Y' if glide_mode=='b' else 'Z'\n",
    "for R3t in np.linspace(-2.0,2.0,41):\n",
    "    R3t=np.round(R3t,1)\n",
    "    # R3p=np.round(R3p,1)\n",
    "    df_FF=pd.read_csv(FF.path+f'glide={glide_mode}/FF_phi1phi2_{YorZ}-type_R3t={R3t}_R3p={R3p}.csv')\n",
    "    hmap = ax.imshow(df_FF.pivot(\"phi2\", \"phi1\", \"FF\"),vmax=0.0)#,label=f'R3t={R3t}_R3p={R3p}')\n",
    "#     plt.title(f'R3t={R3t}_R3p={R3p}')\n",
    "    ax.set_xlabel('phi1')\n",
    "    ax.set_ylabel('phi2')\n",
    "    title = ax.text(0.5, 1.01,f'R3t={R3t}_R3p={R3p}')\n",
    "#     hmap = sns.heatmap(df_FF.pivot(\"phi2\", \"phi1\", \"FF\"),vmax=0.0,xticklabels=45,yticklabels=45)\n",
    "    ims.append([hmap,title])\n",
    "#     plt.show()\n",
    "\n",
    "ani = ArtistAnimation(fig, ims)\n",
    "ani.save('anim_R3p={}_glide={}.gif'.format(R3p,glide_mode), writer=\"imagemagick\")\n",
    "# ani.save('anim.mp4', writer=\"ffmpeg\")\n",
    "# plt.show()"
   ]
  },
  {
   "source": [
    "# ピーク検出"
   ],
   "cell_type": "markdown",
   "metadata": {}
  },
  {
   "cell_type": "code",
   "execution_count": 127,
   "metadata": {
    "tags": []
   },
   "outputs": [],
   "source": [
    "import numpy as np\n",
    "import matplotlib.pyplot as plt\n",
    "from scipy.ndimage.filters import minimum_filter\n",
    "\n",
    "# ピーク検出関数\n",
    "def detect_peaks(image, filter_size=3):\n",
    "    local_min = minimum_filter(image, footprint=np.ones((filter_size, filter_size)), mode='constant')\n",
    "    detected_peaks = np.ma.array(image, mask=~(image == local_min))\n",
    "\n",
    "    # # 小さいピーク値を排除（最大ピーク値のorder倍のピークは排除）\n",
    "    # temp = np.ma.array(detected_peaks, mask=~(detected_peaks >= detected_peaks.max() * order))\n",
    "    # peaks_index = np.where((temp.mask != True))\n",
    "\n",
    "    # 正のピーク値を排除（最大ピーク値のorder倍のピークは排除）\n",
    "    temp = np.ma.array(detected_peaks, mask=~(detected_peaks < 0))\n",
    "    peaks_index = np.where(temp.mask!=True)\n",
    "    \n",
    "    return peaks_index\n",
    "\n",
    "def extract_localmin(R1,R2,heri,R3t,R3p,glide):\n",
    "    FF=FF_phi1phi2(R1=R1,R2=R2,heri=heri,R3t=R3t,R3p=R3p,glide=glide)\n",
    "\n",
    "    type_ = 'Z' if FF.glide=='a' else 'Y'\n",
    "    FF_path = os.path.join(FF.path,'glide={}/FF_phi1phi2_{}-type_R3t={}_R3p={}.csv'.format(FF.glide,type_,FF.R3t,FF.R3p))\n",
    "    df_FF = pd.read_csv(FF_path)\n",
    "\n",
    "    Map_val = np.reshape(df_FF['FF'].values, (df_FF['phi1'].nunique(),df_FF['phi2'].nunique())).T\n",
    "\n",
    "    phi_interval = 360/(Map_val.shape[0]-1)\n",
    "    maxid1 = detect_peaks(Map_val)\n",
    "\n",
    "    phi1phi2FF_localmin_list = []\n",
    "    for (id2, id1) in np.array(maxid1).T:\n",
    "        phi1phi2FF_localmin = [R1,R2,heri,R3t,R3p,glide,id1*phi_interval-180, id2*phi_interval-180 ,Map_val[id2][id1]]\n",
    "        phi1phi2FF_localmin_list.append(phi1phi2FF_localmin)\n",
    "\n",
    "    df_phi1phi2FF_localmin = pd.DataFrame(phi1phi2FF_localmin_list,columns=['R1','R2','heri','R3t','R3p','glide','phi1','phi2','FF'])\n",
    "    return df_phi1phi2FF_localmin #[phi1,phi2,FF]のdf\n"
   ]
  },
  {
   "cell_type": "code",
   "execution_count": 134,
   "metadata": {
    "tags": []
   },
   "outputs": [
    {
     "output_type": "stream",
     "name": "stderr",
     "text": [
      "100%|██████████| 41/41 [00:21<00:00,  1.91it/s]\n",
      "100%|██████████| 41/41 [00:32<00:00,  1.25it/s]\n"
     ]
    }
   ],
   "source": [
    "df_localmin_list = []\n",
    "\n",
    "#Y type\n",
    "for R3t in tqdm(np.linspace(-2.0,2.0,41)):\n",
    "    for R3p in np.linspace(-2.0,2.0,41):\n",
    "        R3t=np.round(R3t,1)\n",
    "        R3p=np.round(R3p,1)\n",
    "        df_localmin_current = extract_localmin(R1=5.0,R2=1.0,heri=58.0,R3t=R3t,R3p=R3p,glide='b')\n",
    "        df_localmin_list.append(df_localmin_current)\n",
    "\n",
    "#Z type\n",
    "for R3t in tqdm(np.linspace(-2.0,2.0,41)):\n",
    "    for R3p in np.linspace(-2.0,2.0,41):\n",
    "        R3t=np.round(R3t,1)\n",
    "        R3p=np.round(R3p,1)\n",
    "        df_localmin_current = extract_localmin(R1=5.0,R2=0.7,heri=58.0,R3t=R3t,R3p=R3p,glide='a')\n",
    "        df_localmin_list.append(df_localmin_current)\n",
    "\n",
    "df_localmin=pd.concat(df_localmin_list, ignore_index=True)\n",
    "df_localmin.to_csv('./FF_localmin.csv',index=False)"
   ]
  },
  {
   "cell_type": "code",
   "execution_count": 131,
   "metadata": {},
   "outputs": [],
   "source": []
  },
  {
   "cell_type": "code",
   "execution_count": null,
   "metadata": {},
   "outputs": [],
   "source": []
  }
 ],
 "metadata": {
  "kernelspec": {
   "name": "python3",
   "display_name": "Python 3.7.3 64-bit",
   "metadata": {
    "interpreter": {
     "hash": "31f2aee4e71d21fbe5cf8b01ff0e069b9275f58929596ceb00d14d90e3e16cd6"
    }
   }
  },
  "language_info": {
   "codemirror_mode": {
    "name": "ipython",
    "version": 3
   },
   "file_extension": ".py",
   "mimetype": "text/x-python",
   "name": "python",
   "nbconvert_exporter": "python",
   "pygments_lexer": "ipython3",
   "version": "3.7.3-final"
  }
 },
 "nbformat": 4,
 "nbformat_minor": 4
}