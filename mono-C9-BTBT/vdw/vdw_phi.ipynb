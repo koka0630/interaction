{
 "cells": [
  {
   "cell_type": "code",
   "execution_count": 10,
   "metadata": {},
   "outputs": [],
   "source": [
    "import os\n",
    "import pandas as pd\n",
    "import matplotlib as mpl\n",
    "import matplotlib.pyplot as plt\n",
    "import matplotlib.cm as cm\n",
    "import numpy as np\n",
    "import shutil as sh\n",
    "import math\n",
    "import time\n",
    "from mpl_toolkits.mplot3d import Axes3D"
   ]
  },
  {
   "cell_type": "code",
   "execution_count": 11,
   "metadata": {},
   "outputs": [],
   "source": [
    "class vdw_phi():\n",
    "    \n",
    "    #ヘリンボーンパラメータとYorZ入れる。glide=a→Z, glide=b→Y\n",
    "    def __init__(self,R1,R2,heri,glide):\n",
    "        self.R1=R1;self.R2=R2;self.heri=heri;self.glide=glide\n",
    "        self.path='C:\\\\Users\\\\youmo\\\\OSC\\\\interaction\\\\mono-C9-BTBT\\\\vdw\\\\'\n",
    "        self.interval_phi1=1#deg\n",
    "        self.interval_phi2=1#deg\n",
    "        self.phi1_list=np.linspace(-180.0,180.0,360.0/self.interval_phi1+1)#回転角\n",
    "        self.phi2_list=[0]#np.linspace(-3.0,5.0,8.0/self.interval_phi2+1)#結合角まだ試作段階#################\n",
    "        \n",
    "        A_rad=np.radians(heri/2)\n",
    "        self.a_=2*(R1*np.cos(A_rad)-R2*np.sin(A_rad))\n",
    "        self.b_=2*(R2*np.cos(A_rad)+R1*np.sin(A_rad))\n",
    "        \n",
    "        #侵入の閾値\n",
    "        self.inv=1.0\n",
    "\n",
    "    #theta_in \n",
    "    def Rod(self,n,theta_in):\n",
    "        nx,ny,nz=n\n",
    "        theta_t=np.radians(theta_in)\n",
    "        Rod=np.array([[np.cos(theta_t)+(nx**2)*(1-np.cos(theta_t)),nx*ny*(1-np.cos(theta_t))-nz*np.sin(theta_t),nx*nz*(1-np.cos(theta_t))+ny*np.sin(theta_t)],\n",
    "                    [nx*ny*(1-np.cos(theta_t))+nz*np.sin(theta_t),np.cos(theta_t)+(ny**2)*(1-np.cos(theta_t)),ny*nz*(1-np.cos(theta_t))-nx*np.sin(theta_t)],\n",
    "                    [nx*nz*(1-np.cos(theta_t))-ny*np.sin(theta_t),ny*nz*(1-np.cos(theta_t))+nx*np.sin(theta_t),np.cos(theta_t)+(nz**2)*(1-np.cos(theta_t))]])\n",
    "        return Rod\n",
    "\n",
    "\n",
    "    #分子1分子2を作成(回転させただけ・平行移動なし)\n",
    "    def convertor(self,atom_list,A,phi1,phi2):#A=heri/2\n",
    "        atom_list_1=[];atom_list_pa=[];atom_list_pb=[];atom_list_t1=[];atom_list_t3=[]\n",
    "        \n",
    "        #alkylの基準\n",
    "        C0=np.array([atom_list[16][0],atom_list[16][1],atom_list[16][2]])\n",
    "        C1=np.array([atom_list[23][0],atom_list[23][1],atom_list[23][2]])\n",
    "        C2=np.array([atom_list[26][0],atom_list[26][1],atom_list[26][2]])\n",
    "        \n",
    "        #phi1に関するalkylの軸\n",
    "        n1=C1-C0\n",
    "        n1/=np.linalg.norm(n1)\n",
    "        \n",
    "        n2=np.cross(C0-C1,C2-C1)\n",
    "        n2/=np.linalg.norm(n2)\n",
    "                    \n",
    "        #alkyl回転・分子1作成\n",
    "        for ind,(x,y,z,R) in enumerate(atom_list):\n",
    "            if ind>=23:#alkyl?\n",
    "                x,y,z=np.matmul(self.Rod(n2,phi2),(np.array([x,y,z])-C1).T)\n",
    "                x,y,z=C1+np.array([x,y,z])\n",
    "                x,y,z=np.matmul(self.Rod(n1,phi1),(np.array([x,y,z])-C0).T)\n",
    "                x,y,z=C0+np.array([x,y,z])\n",
    "            x1,y1,z1=np.matmul(self.Rod(np.array([0,0,1]),A),np.array([x,y,z]).T)\n",
    "            atom_list_1.append([x1,y1,z1,R])\n",
    "        \n",
    "        #並進・映進操作でp,t作成\n",
    "        for x,y,z,R in atom_list_1:\n",
    "            atom_list_pb.append([x,self.b_+y,z,R])\n",
    "            atom_list_pa.append([self.a_+x,y,z,R])\n",
    "            \n",
    "            if self.glide=='a':\n",
    "                atom_list_t1.append([self.a_/2+x,self.b_/2-y,z,R])\n",
    "                atom_list_t3.append([-self.a_/2+x,-self.b_/2-y,z,R])\n",
    "\n",
    "            elif self.glide=='b':\n",
    "                atom_list_t1.append([self.a_/2-x,self.b_/2+y,z,R])\n",
    "                atom_list_t3.append([-self.a_/2-x,-self.b_/2+y,z,R])\n",
    "\n",
    "        atom_list_others=[atom_list_pa,atom_list_pb,atom_list_t1,atom_list_t3]\n",
    "        return atom_list_1,atom_list_others\n",
    "\n",
    "    #phiの範囲を出力\n",
    "    def calc_phi(self):\n",
    "        df=pd.DataFrame(columns=['R1','R2','heri','phi1','phi2'])\n",
    "        df_mono=pd.read_csv(self.path+'monomer_cifopt.csv') ###x,y,z,rad##################test中\n",
    "        monomer=df_mono[['X','Y','Z','R']].values\n",
    "\n",
    "        for phi1 in self.phi1_list:\n",
    "            for phi2 in self.phi2_list:\n",
    "                BTBT_1,BTBT_others=self.convertor(monomer,self.heri/2,phi1,phi2)\n",
    "\n",
    "                #衝突回数\n",
    "                clps=0\n",
    "\n",
    "                #アルキルの各原子同士が衝突したらbreak\n",
    "                for ind1,(x1,y1,z1,R1) in enumerate(BTBT_1[23:]):\n",
    "                    if clps>0:\n",
    "                        break\n",
    "                    for ind2,BTBT_2 in enumerate(BTBT_others):\n",
    "                        if clps>0:\n",
    "                            break\n",
    "                        for ind3,(x2,y2,z2,R2) in enumerate(BTBT_2[23:]):\n",
    "                            if (R1+R2)-np.sqrt((x1-x2)**2+(y1-y2)**2+(z1-z2)**2) > self.inv:\n",
    "                                clps+=1\n",
    "                                break\n",
    "                if clps==0:\n",
    "                    data=pd.Series([self.R1,self.R2,self.heri,phi1,phi2],index=['R1','R2','heri','phi1','phi2'])\n",
    "                    df=df.append(data,ignore_index=True)\n",
    "        df.to_csv(self.path+'vdw_phi_cifopt.csv',index=False)\n",
    "\n",
    "    def pieplot(self):\n",
    "        df_vdw_phi=pd.read_csv(self.path+'vdw_phi_cifopt.csv')\n",
    "        phi_list=df_vdw_phi['phi1'].values#接触が少なかったphiのリスト\n",
    "        \n",
    "        pie=1;pie_list=[]#円グラフにおけるpieの大きさとそのリスト\n",
    "        \n",
    "        inc_bool_old=(180.0 in phi_list) #一周してつながるようにする\n",
    "        \n",
    "        for phi in self.phi1_list[1:]:#180deg=-180degでした\n",
    "            inc_bool_new=(phi in phi_list)#含まれてるかどうかのbool値\n",
    "            if inc_bool_old == inc_bool_new:#続くならpie増加\n",
    "                pie+=1\n",
    "            else:#途切れたら色スイッチ\n",
    "                pie_list.append(pie)\n",
    "                pie=1\n",
    "            inc_bool_old=inc_bool_new\n",
    "        pie_list.append(pie-1)\n",
    "        color_list=['skyblue' if i%2==1 else 'white' for i in range(len(pie_list))] #0or1の振動で表現\n",
    "        print(pie_list)\n",
    "        plt.pie(pie_list,colors=color_list,counterclock=False,startangle=self.heri/2+90-180)#90が12時のところ。phi1の最初が-180degなので180引いた"
   ]
  },
  {
   "cell_type": "code",
   "execution_count": 7,
   "metadata": {},
   "outputs": [],
   "source": [
    "vdw=vdw_phi(R1=5.0,R2=0.8,heri=58.0,glide='b')"
   ]
  },
  {
   "cell_type": "code",
   "execution_count": 8,
   "metadata": {},
   "outputs": [],
   "source": [
    "vdw.calc_phi()"
   ]
  },
  {
   "cell_type": "code",
   "execution_count": 9,
   "metadata": {},
   "outputs": [
    {
     "name": "stdout",
     "output_type": "stream",
     "text": [
      "[37, 10, 48, 3, 75, 72, 115]\n"
     ]
    },
    {
     "data": {
      "image/png": "[encoded data removed]",
      "text/plain": [
       "<Figure size 720x720 with 1 Axes>"
      ]
     },
     "metadata": {},
     "output_type": "display_data"
    }
   ],
   "source": [
    "plt.rcParams['figure.figsize']=10,10\n",
    "vdw.pieplot()"
   ]
  },
  {
   "cell_type": "code",
   "execution_count": 104,
   "metadata": {
    "scrolled": true
   },
   "outputs": [],
   "source": [
    "df=pd.read_csv(vdw.path+'vdw_phi.csv')\n",
    "df_mono=pd.read_csv(vdw.path+'monomer.csv')###x,y,z,rad\n",
    "monomer=df_mono[['X','Y','Z','R']].values\n",
    "\n",
    "atom_list_1,atom_list_others=vdw.convertor(monomer,vdw.heri/2,-135.0,0.0)\n",
    "df_test=pd.DataFrame(np.array(atom_list_1+atom_list_others[2]+atom_list_others[3]),columns=['X','Y','Z','R'])\n",
    "df_test.to_csv(vdw.path+'test.csv',index=False)"
   ]
  },
  {
   "cell_type": "code",
   "execution_count": null,
   "metadata": {},
   "outputs": [],
   "source": []
  }
 ],
 "metadata": {
  "kernelspec": {
   "display_name": "Python 3",
   "language": "python",
   "name": "python3"
  },
  "language_info": {
   "codemirror_mode": {
    "name": "ipython",
    "version": 3
   },
   "file_extension": ".py",
   "mimetype": "text/x-python",
   "name": "python",
   "nbconvert_exporter": "python",
   "pygments_lexer": "ipython3",
   "version": "3.7.1"
  }
 },
 "nbformat": 4,
 "nbformat_minor": 2
}
