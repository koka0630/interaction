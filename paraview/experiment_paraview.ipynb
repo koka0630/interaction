{
 "cells": [
  {
   "cell_type": "code",
   "execution_count": 1,
   "metadata": {},
   "outputs": [],
   "source": [
    "import os\n",
    "import pandas as pd\n",
    "import matplotlib as mpl\n",
    "import matplotlib.pyplot as plt\n",
    "import matplotlib.cm as cm\n",
    "import numpy as np\n",
    "import shutil as sh\n",
    "import math\n",
    "import time\n",
    "from mpl_toolkits.mplot3d import Axes3D\n",
    "from tqdm import tqdm"
   ]
  },
  {
   "cell_type": "markdown",
   "metadata": {},
   "source": [
    "FF 関数"
   ]
  },
  {
   "cell_type": "code",
   "execution_count": 25,
   "metadata": {},
   "outputs": [],
   "source": [
    "def Rod(n,theta_in):\n",
    "    nx,ny,nz=n\n",
    "    theta_t=np.radians(theta_in)\n",
    "    Rod=np.array([[np.cos(theta_t)+(nx**2)*(1-np.cos(theta_t)),nx*ny*(1-np.cos(theta_t))-nz*np.sin(theta_t),nx*nz*(1-np.cos(theta_t))+ny*np.sin(theta_t)],\n",
    "                [nx*ny*(1-np.cos(theta_t))+nz*np.sin(theta_t),np.cos(theta_t)+(ny**2)*(1-np.cos(theta_t)),ny*nz*(1-np.cos(theta_t))-nx*np.sin(theta_t)],\n",
    "                [nx*nz*(1-np.cos(theta_t))-ny*np.sin(theta_t),ny*nz*(1-np.cos(theta_t))+nx*np.sin(theta_t),np.cos(theta_t)+(nz**2)*(1-np.cos(theta_t))]])\n",
    "    return Rod\n",
    "\n",
    "def get_rot_axis_from_A2(A2):\n",
    "    A2 = np.radians(A2)\n",
    "    rot_axis1 = np.array([0.,0.,1.])\n",
    "    rot_axis2 = np.array([\n",
    "        -np.sin(A2),\n",
    "        np.cos(A2),\n",
    "        0.\n",
    "    ])\n",
    "    return rot_axis1, rot_axis2\n",
    "\n",
    "def get_ab_from_params(R1,R2,heri):\n",
    "    A_rad=np.radians(heri/2)\n",
    "    a_=2*(R1*np.cos(A_rad)-R2*np.sin(A_rad))\n",
    "    b_=2*(R2*np.cos(A_rad)+R1*np.sin(A_rad))\n",
    "    return a_, b_ \n",
    "\n",
    "def getA1_from_R3t(a,R3t,glide):\n",
    "    assert glide=='a'\n",
    "    return np.rad2deg(np.arctan(R3t/(a/2)))\n",
    "\n",
    "#分子を配列\n",
    "# mono-Cn-BTBTを想定\n",
    "def arrangeNN(atom_list,a,b,A1,A2,A3,phi1,phi2,glide):\n",
    "\n",
    "    atom_list_i=[];atom_list_p1=[];atom_list_p2=[]\n",
    "    atom_list_t1=[];atom_list_t2=[];atom_list_t3=[];atom_list_t4=[]\n",
    "\n",
    "    #alkylの基準\n",
    "    C0=np.array([atom_list[16][1],atom_list[16][2],atom_list[16][3]])\n",
    "    C1=np.array([atom_list[23][1],atom_list[23][2],atom_list[23][3]])\n",
    "\n",
    "    #phi1に関するalkylの軸\n",
    "    n1=C1-C0\n",
    "    n1/=np.linalg.norm(n1)\n",
    "\n",
    "    #映進面によって回転角変える\n",
    "    glide=180.0 if glide=='a' else 0.0\n",
    "\n",
    "    #回転軸\n",
    "    rot_axis_i1, rot_axis_i2 = get_rot_axis_from_A2(A2)\n",
    "    rot_axis_t1, rot_axis_t2 = get_rot_axis_from_A2(-A2)\n",
    "\n",
    "    #alkyl回転・分子1作成\n",
    "    for ind,(x,y,z,R) in enumerate(atom_list):\n",
    "        x1=x;y1=y;z1=z\n",
    "        x2=x;y2=y;z2=z\n",
    "        #alkylだけΦ回転　phi1=-phi2のとき映進\n",
    "        if ind>=23:#alkyl?\n",
    "            x1,y1,z1=np.matmul(Rod(n1,phi1),(np.array([x,y,z])-C0).T)\n",
    "            x1,y1,z1=C0+np.array([x1,y1,z1])\n",
    "            x2,y2,z2=np.matmul(Rod(n1,phi2),(np.array([x,y,z])-C0).T)\n",
    "            x2,y2,z2=C0+np.array([x2,y2,z2])\n",
    "\n",
    "        #heri/2回転 i,t作成\n",
    "        x1,y1,z1=np.matmul(Rod(rot_axis_i1,A3 + A2),np.array([x1,y1,z1]).T)\n",
    "        x1,y1,z1=np.matmul(Rod(rot_axis_i2,A1),np.array([x1,y1,z1]).T)\n",
    "        \n",
    "        x2,y2,z2=np.matmul(Rod(rot_axis_t1,-A3 - A2 +glide),np.array([x2,y2,z2]).T)\n",
    "        x2,y2,z2=np.matmul(Rod(rot_axis_t2,A1),np.array([x2,y2,z2]).T)\n",
    "\n",
    "        atom_list_i.append([x1,y1,z1,R])\n",
    "        atom_list_p1.append([x1,b+y1,z1,R])\n",
    "        atom_list_p2.append([x1,-b+y1,z1,R])\n",
    "        atom_list_t1.append([a/2+x2,b/2+y2,z2,R]) \n",
    "        atom_list_t2.append([a/2+x2,-b/2+y2,z2,R])\n",
    "        atom_list_t3.append([-a/2+x2,-b/2+y2,z2,R])\n",
    "        atom_list_t4.append([-a/2+x2,b/2+y2,z2,R])\n",
    "\n",
    "    xyz_NN=np.array(atom_list_p1+atom_list_p2+atom_list_t1+atom_list_t2+atom_list_t3+atom_list_t4)\n",
    "    \n",
    "    return xyz_NN\n",
    "\n",
    "#mono-BTBT-Cnを想定。\n",
    "def make_paraview(monomer_filename,a,b,A1,A2,A3,phi1,phi2,glide):\n",
    "    base_dir = '/home/koyama/Working/interaction/paraview'\n",
    "    df_mono=pd.read_csv(os.path.join(base_dir,monomer_filename))\n",
    "    monomer=df_mono[['X','Y','Z','R']].values\n",
    "    xyz_NN=arrangeNN(monomer,a,b,A1,A2,A3,phi1,phi2,glide)\n",
    "    df_xyz = pd.DataFrame(data = xyz_NN, columns = ['X','Y','Y','R'])\n",
    "    isBTBT = monomer_filename == 'BTBT.csv'\n",
    "    if isBTBT:\n",
    "        out_filename = 'arrangesNN/a={}_b={}_A1={}_A2={}_A3={}_glide={}_'.format(round(a,2),round(b,2),int(A1),int(A2),int(A3),glide)+monomer_filename\n",
    "    else:\n",
    "        out_filename = 'arrangesNN/a={}_b={}_A1={}_A2={}_A3={}_phi1={}_phi2={}_glide={}_'.format(round(a,2),round(b,2),int(A1),int(A2),int(A3),phi1,phi2,glide)+monomer_filename\n",
    "    df_xyz.to_csv(os.path.join(base_dir,out_filename),index=False)\n"
   ]
  },
  {
   "cell_type": "code",
   "execution_count": 26,
   "metadata": {},
   "outputs": [
    {
     "data": {
      "text/html": [
       "<div>\n",
       "<style scoped>\n",
       "    .dataframe tbody tr th:only-of-type {\n",
       "        vertical-align: middle;\n",
       "    }\n",
       "\n",
       "    .dataframe tbody tr th {\n",
       "        vertical-align: top;\n",
       "    }\n",
       "\n",
       "    .dataframe thead th {\n",
       "        text-align: right;\n",
       "    }\n",
       "</style>\n",
       "<table border=\"1\" class=\"dataframe\">\n",
       "  <thead>\n",
       "    <tr style=\"text-align: right;\">\n",
       "      <th></th>\n",
       "      <th>A1</th>\n",
       "      <th>A2</th>\n",
       "      <th>A3</th>\n",
       "      <th>theta</th>\n",
       "      <th>R</th>\n",
       "      <th>S</th>\n",
       "      <th>a</th>\n",
       "      <th>b</th>\n",
       "    </tr>\n",
       "  </thead>\n",
       "  <tbody>\n",
       "    <tr>\n",
       "      <td>984</td>\n",
       "      <td>6.0</td>\n",
       "      <td>-11.0</td>\n",
       "      <td>41.0</td>\n",
       "      <td>35.7</td>\n",
       "      <td>5.199799</td>\n",
       "      <td>51.251352</td>\n",
       "      <td>8.445342</td>\n",
       "      <td>6.068594</td>\n",
       "    </tr>\n",
       "  </tbody>\n",
       "</table>\n",
       "</div>"
      ],
      "text/plain": [
       "      A1    A2    A3  theta         R          S         a         b\n",
       "984  6.0 -11.0  41.0   35.7  5.199799  51.251352  8.445342  6.068594"
      ]
     },
     "execution_count": 26,
     "metadata": {},
     "output_type": "execute_result"
    }
   ],
   "source": [
    "df_vdw = pd.read_csv('/home/koyama/Working/interaction/BTBT/vdw/vdw_step2B_glide=a_edge=a_0.1deg.csv')\n",
    "df_vdw[(df_vdw['A1']==6) & (df_vdw['A2']==-11)]"
   ]
  },
  {
   "cell_type": "code",
   "execution_count": 27,
   "metadata": {
    "scrolled": true
   },
   "outputs": [],
   "source": [
    "glide='a'\n",
    "A1,A2,A3,theta,R,S,a,b = df_vdw.iloc[984]\n",
    "make_paraview('BTBT.csv',a,b,A1,A2,A3,phi1,phi2,glide)"
   ]
  },
  {
   "cell_type": "code",
   "execution_count": null,
   "metadata": {},
   "outputs": [],
   "source": []
  }
 ],
 "metadata": {
  "kernelspec": {
   "display_name": "Python 3",
   "language": "python",
   "name": "python3"
  },
  "language_info": {
   "codemirror_mode": {
    "name": "ipython",
    "version": 3
   },
   "file_extension": ".py",
   "mimetype": "text/x-python",
   "name": "python",
   "nbconvert_exporter": "python",
   "pygments_lexer": "ipython3",
   "version": "3.7.4"
  }
 },
 "nbformat": 4,
 "nbformat_minor": 2
}
